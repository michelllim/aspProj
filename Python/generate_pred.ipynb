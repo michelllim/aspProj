{
 "cells": [
  {
   "cell_type": "markdown",
   "id": "91772a55-7aee-448a-b7cc-1c92ce70ffc5",
   "metadata": {},
   "source": [
    "# Tuberculosis Prediction\n",
    "\n",
    "Variables: name string, gender m/f, age range, country_of_birth, smoking 0-4, alcohol 0-4, family history y/n, close contact y/n, health conditions y/n, occupational risks y/n, physical activity 0-4, diet y/n, air pollution 0-4, long term cough y/n, chest pain y/n, appetite loss y/n, weight loss y/n, chills y/n, fatigue y/n, night sweats y/n, cough blood y/n, fevers y/n, no_range\n"
   ]
  },
  {
   "cell_type": "markdown",
   "id": "489d645b-5807-4863-abf0-5bfb7dc0dd53",
   "metadata": {},
   "source": [
    "### Conditions\n",
    "\n",
    "- gender - males\n",
    "- age range - 15-34, 70-79\n",
    "- country of birth\n",
    "- no_range - >25"
   ]
  },
  {
   "cell_type": "code",
   "execution_count": 93,
   "id": "a0ccba53-045d-45be-9062-76883596e462",
   "metadata": {},
   "outputs": [],
   "source": [
    "import pandas as pd"
   ]
  },
  {
   "cell_type": "code",
   "execution_count": 94,
   "id": "a232391f-4b8f-4ad6-9d88-fe95cc5cdd19",
   "metadata": {},
   "outputs": [],
   "source": [
    "#Load csv\n",
    "df = pd.read_csv(\"./dataset/tbdata.csv\")"
   ]
  },
  {
   "cell_type": "code",
   "execution_count": 95,
   "id": "9082f1b5-7a45-4c77-997e-ad865b5c58db",
   "metadata": {},
   "outputs": [],
   "source": [
    "# Create a list of conditions\n",
    "\n",
    "#symptomatic\n",
    "conditions11 = [\n",
    "    (df['Age'].between(15, 34) | df['Age'].between(70, 79)),\n",
    "    (df['NitricOxide'] > 25),\n",
    "    (df['CoughBlood'].eq(1))\n",
    "]\n",
    "\n",
    "conditions12 = [\n",
    "    (df['FamilyHistory'].eq(1)),\n",
    "    (df['CloseContact'].eq(1)),\n",
    "    (df['HealthConditions'].eq(1)),\n",
    "    (df['OccupationalRisks'].eq(1)),\n",
    "    (df['LongTermCough'].eq(1)),\n",
    "    (df['ChestPain'].eq(1)),\n",
    "    (df['AppetiteLoss'].eq(1)),\n",
    "    (df['WeightLoss'].eq(1)),\n",
    "    (df['Chills'].eq(1)),\n",
    "    (df['Fatigue'].eq(1)),\n",
    "    (df['NightSweat'].eq(1)),\n",
    "    (df['Fevers'].eq(1))\n",
    "]\n",
    "\n",
    "\n",
    "#habitual\n",
    "conditions2 = [\n",
    "    (df['Gender'].eq(1)),\n",
    "    (df['Age'].between(15, 34) | df['Age'].between(70, 79)),\n",
    "    (df['CoughBlood'].eq(1)),\n",
    "    (df['CountryofBirth'].isin(['India', 'Indonesia', 'China', 'Philippines', 'Pakistan', 'Nigeria', 'Bangladesh', 'DR Congo', 'South Africa', 'Myanmar'])),\n",
    "    (df['Smoking'] > 2),\n",
    "    (df['Alcohol'] > 2),\n",
    "]\n",
    "\n",
    "#check for nitric oxide\n",
    "conditions3 = [\n",
    "    (df['Age'].between(15, 34) | df['Age'].between(70, 79)),\n",
    "    (df['NitricOxide'] > 25),\n",
    "    (df['CoughBlood'].eq(1)),\n",
    "    (df['PhysicalActivity'] < 2),\n",
    "    (df['AirPollution'] < 3),\n",
    "    (df[['OccupationalRisks']].eq(1).any(axis=1))\n",
    "\n",
    "]\n",
    "#all conditions\n",
    "conditions4 = [\n",
    "    (df['Gender'].eq(1)),\n",
    "    (df['Age'].between(15, 34) | df['Age'].between(70, 79)),\n",
    "    (df['CoughBlood'].eq(1)),\n",
    "    (df['CountryofBirth'].isin(['India', 'Indonesia', 'China', 'Philippines', 'Pakistan', 'Nigeria', 'Bangladesh', 'DR Congo', 'South Africa', 'Myanmar'])),\n",
    "    (df['NitricOxide'] > 25),\n",
    "    (df['Smoking'] > 2),\n",
    "    (df['Alcohol'] > 2),\n",
    "    (df['PhysicalActivity'] < 2),\n",
    "    (df['AirPollution'] < 3)\n",
    "]\n",
    "\n",
    "\n",
    "conditions5 = [\n",
    "    (df['Age'].between(15, 34) | df['Age'].between(70, 79)),\n",
    "    (df['FamilyHistory'].eq(1)),\n",
    "    (df['HealthConditions'].eq(1)),\n",
    "    (df['LongTermCough'].eq(1)),\n",
    "    (df['CoughBlood'].eq(1)),\n",
    "    (df['ChestPain'].eq(1))\n",
    "]\n",
    "\n",
    "conditions6 = [\n",
    "    (df['AppetiteLoss'].eq(1)),\n",
    "    (df['NitricOxide'] > 25),\n",
    "    (df['WeightLoss'].eq(1)),\n",
    "    (df['Chills'].eq(1)),\n",
    "    (df['Fatigue'].eq(1)),\n",
    "    (df['NightSweat'].eq(1)),\n",
    "    (df['Fevers'].eq(1))\n",
    "]"
   ]
  },
  {
   "cell_type": "markdown",
   "id": "c2b2422d-8fd6-47be-b566-353523d09204",
   "metadata": {},
   "source": [
    "### PRED1"
   ]
  },
  {
   "cell_type": "raw",
   "id": "42dd54cb-473f-44e7-936b-4dc8758a45cd",
   "metadata": {},
   "source": [
    "# Create a new column tbpred based on the conditions\n",
    "df['tb_pred'] = (\n",
    "    ((sum(conditions11) == 2) & (sum(conditions12) >= 4)) |\n",
    "    (sum(conditions2) >= 6) |\n",
    "    (sum(conditions3) >= 4) |\n",
    "    (sum(conditions4) >= 5)\n",
    ").astype(int)\n",
    "\n",
    "# Display the updated DataFrame\n",
    "print(df)"
   ]
  },
  {
   "cell_type": "markdown",
   "id": "3370aa6b-dcd9-4e84-a6d5-0211ce655ff3",
   "metadata": {},
   "source": [
    "### PRED2"
   ]
  },
  {
   "cell_type": "code",
   "execution_count": 109,
   "id": "b698faae-267b-4a45-a6b3-7953cbf07e73",
   "metadata": {},
   "outputs": [
    {
     "name": "stdout",
     "output_type": "stream",
     "text": [
      "                 Name  Gender  Age                    CountryofBirth  Smoking  \\\n",
      "0     Cassandra Smith       0   41                      Cook Islands        2   \n",
      "1       Kristin Burns       0   86                       Afghanistan        3   \n",
      "2     Edward Morrison       0   46                           Bermuda        4   \n",
      "3        Julie Murphy       0   33                           Morocco        4   \n",
      "4       David Simmons       0   41                           Namibia        1   \n",
      "...               ...     ...  ...                               ...      ...   \n",
      "1995     Amber Gibson       0   77                            Bhutan        4   \n",
      "1996  Danielle Murray       0   91                           Vietnam        0   \n",
      "1997  Preston Vaughan       1   27                             Haiti        4   \n",
      "1998    Melissa Smith       1   93                              Niue        4   \n",
      "1999     Jaime Dodson       0   74  Saint Vincent and the Grenadines        3   \n",
      "\n",
      "      Alcohol  FamilyHistory  CloseContact  HealthConditions  \\\n",
      "0           2              0             1                 1   \n",
      "1           4              0             0                 1   \n",
      "2           1              0             0                 1   \n",
      "3           2              0             1                 1   \n",
      "4           2              0             0                 0   \n",
      "...       ...            ...           ...               ...   \n",
      "1995        0              1             0                 1   \n",
      "1996        0              1             1                 0   \n",
      "1997        2              0             1                 1   \n",
      "1998        1              1             0                 0   \n",
      "1999        2              1             0                 1   \n",
      "\n",
      "      OccupationalRisks  ...  ChestPain  AppetiteLoss  WeightLoss  Chills  \\\n",
      "0                     0  ...          0             1           0       1   \n",
      "1                     1  ...          0             1           1       1   \n",
      "2                     0  ...          1             1           0       1   \n",
      "3                     0  ...          0             0           0       1   \n",
      "4                     1  ...          0             1           0       1   \n",
      "...                 ...  ...        ...           ...         ...     ...   \n",
      "1995                  1  ...          0             0           0       1   \n",
      "1996                  0  ...          1             0           0       0   \n",
      "1997                  1  ...          0             0           0       1   \n",
      "1998                  1  ...          0             0           1       1   \n",
      "1999                  1  ...          0             0           0       0   \n",
      "\n",
      "      Fatigue  NightSweat  CoughBlood  Fevers  NitricOxide  tb_pred  \n",
      "0           1           1           1       0        27.28        0  \n",
      "1           0           1           1       0        18.47        0  \n",
      "2           0           0           1       1        53.64        0  \n",
      "3           0           0           1       0        48.32        0  \n",
      "4           1           1           0       1        29.04        0  \n",
      "...       ...         ...         ...     ...          ...      ...  \n",
      "1995        0           1           0       0        12.53        0  \n",
      "1996        1           0           0       1        27.62        0  \n",
      "1997        0           1           0       0        40.11        1  \n",
      "1998        0           1           1       1        21.42        0  \n",
      "1999        0           1           0       0        10.57        0  \n",
      "\n",
      "[2000 rows x 24 columns]\n"
     ]
    }
   ],
   "source": [
    "# Create a new column tbpred based on the conditions\n",
    "df['tb_pred'] = (((sum(conditions11) > 2) & (sum(conditions12) > 5)) | ((sum(conditions2) >4) & (sum(conditions12) > 5)) | (sum(conditions3) > 4) | ((sum(conditions4) > 4) & (sum(conditions12) > 5))| ((sum(conditions5) > 4) & (sum(conditions6) > 3))).astype(int)\n",
    "\n",
    "\n",
    "# Display the updated DataFrame\n",
    "print(df)"
   ]
  },
  {
   "cell_type": "markdown",
   "id": "869d3f3c-4006-4f8c-9ef2-582779f7bf1d",
   "metadata": {},
   "source": [
    "### PRED3"
   ]
  },
  {
   "cell_type": "raw",
   "id": "e380700a-6b5d-4475-b31c-e5a7746c5f23",
   "metadata": {},
   "source": [
    "# Count the number of true conditions for each row\n",
    "num_true_conditions1 = sum(conditions1).astype(int)\n",
    "num_true_conditions2 = sum(conditions2).astype(int)\n",
    "num_true_conditions3 = sum(conditions3).astype(int)\n",
    "num_true_conditions4 = sum(conditions4).astype(int)\n",
    "\n",
    "\n",
    "# Set tb_pred to 1 if 5 or more conditions are true\n",
    "df['tb_pred'] = (num_true_conditions >= 5).astype(int)\n",
    "\n",
    "# Display the updated DataFrame\n",
    "print(df)"
   ]
  },
  {
   "cell_type": "markdown",
   "id": "613719f5-d169-4653-9f21-0194c7047ff1",
   "metadata": {},
   "source": [
    "### JUSTIFY PERCENTAGES OF POSITIVES"
   ]
  },
  {
   "cell_type": "code",
   "execution_count": 110,
   "id": "47db0b38-9873-4d70-ab3b-5d47bab86f17",
   "metadata": {},
   "outputs": [
    {
     "name": "stdout",
     "output_type": "stream",
     "text": [
      "Percentage of True Predictions: 24.05%\n",
      "Percentage of False Predictions: 75.95%\n"
     ]
    }
   ],
   "source": [
    "# Calculate the percentage of True and False predictions\n",
    "percentage_true = (df['tb_pred'] == 1).sum() / len(df['tb_pred']) * 100\n",
    "percentage_false = (df['tb_pred'] == 0).sum() / len(df['tb_pred']) * 100\n",
    "\n",
    "# Display the percentages\n",
    "print(f\"Percentage of True Predictions: {percentage_true:.2f}%\")\n",
    "print(f\"Percentage of False Predictions: {percentage_false:.2f}%\")"
   ]
  },
  {
   "cell_type": "code",
   "execution_count": 111,
   "id": "a08435b2-7d8c-4e73-81fd-a415c87bc109",
   "metadata": {},
   "outputs": [],
   "source": [
    "df.to_csv('./dataset/tbpred.csv', index=False)"
   ]
  },
  {
   "cell_type": "code",
   "execution_count": null,
   "id": "37231d4f-7cee-4e0b-ad72-f58df8ce5dca",
   "metadata": {},
   "outputs": [],
   "source": []
  }
 ],
 "metadata": {
  "kernelspec": {
   "display_name": "Python 3 (ipykernel)",
   "language": "python",
   "name": "python3"
  },
  "language_info": {
   "codemirror_mode": {
    "name": "ipython",
    "version": 3
   },
   "file_extension": ".py",
   "mimetype": "text/x-python",
   "name": "python",
   "nbconvert_exporter": "python",
   "pygments_lexer": "ipython3",
   "version": "3.7.16"
  }
 },
 "nbformat": 4,
 "nbformat_minor": 5
}
