{
 "cells": [
  {
   "cell_type": "markdown",
   "id": "e6c46bee-b46b-4049-bfcf-ea49b6ed73b4",
   "metadata": {
    "tags": []
   },
   "source": [
    "# Machine Learning Model: Multi-Class Classification"
   ]
  },
  {
   "cell_type": "markdown",
   "id": "e9a91f3f-b051-4ab6-b426-f34cd6dc4609",
   "metadata": {},
   "source": [
    "## Imports"
   ]
  },
  {
   "cell_type": "code",
   "execution_count": 37,
   "id": "a62007f2-c14a-4f10-a3d2-8f07fe1e99ee",
   "metadata": {
    "tags": []
   },
   "outputs": [],
   "source": [
    "import warnings\n",
    "warnings.simplefilter(action='ignore', category=FutureWarning)\n",
    "\n",
    "import numpy as np\n",
    "import pandas as pd \n",
    "\n",
    "\n",
    "from sklearn import preprocessing\n",
    "from sklearn import metrics\n",
    "from sklearn.model_selection import train_test_split\n",
    "from sklearn.metrics import confusion_matrix, classification_report, ConfusionMatrixDisplay, accuracy_score, precision_score, recall_score, f1_score\n",
    "from sklearn.linear_model import LogisticRegression"
   ]
  },
  {
   "cell_type": "markdown",
   "id": "fd2bb092-7eff-4b72-a622-ac772d623cf8",
   "metadata": {},
   "source": [
    "## 1 Loading CSV"
   ]
  },
  {
   "cell_type": "code",
   "execution_count": 38,
   "id": "65df7c5e-6ec9-4205-ac7a-32641ce24cfb",
   "metadata": {
    "tags": []
   },
   "outputs": [],
   "source": [
    "#Load csv\n",
    "df = pd.read_csv(\"./dataset/tbpred.csv\")"
   ]
  },
  {
   "cell_type": "markdown",
   "id": "e32ce4df-4428-4b6f-bc0e-13364c4b55a6",
   "metadata": {},
   "source": [
    "## 2 Data Preprocessing"
   ]
  },
  {
   "cell_type": "code",
   "execution_count": 39,
   "id": "3a249b17-3eff-4935-951e-8c7c3db049bb",
   "metadata": {
    "tags": []
   },
   "outputs": [],
   "source": [
    "#Label Encode 'Country of Birth' \n",
    "le = preprocessing.LabelEncoder()\n",
    "df['encoded_country'] = le.fit_transform(df['CountryofBirth'])\n",
    "X = df.drop(['Name','CountryofBirth'], axis=1)"
   ]
  },
  {
   "cell_type": "code",
   "execution_count": 40,
   "id": "a5dce18f-cfc2-4a0f-8655-bab33aabde4a",
   "metadata": {
    "tags": []
   },
   "outputs": [],
   "source": [
    "X1 = X.drop('tb_pred', axis=1)\n",
    "Y1 = X['tb_pred']"
   ]
  },
  {
   "cell_type": "markdown",
   "id": "ab5654fe-ddc5-44a6-8662-41f92493625c",
   "metadata": {},
   "source": [
    "## 3 Split Data into Training and Testing Set"
   ]
  },
  {
   "cell_type": "code",
   "execution_count": 41,
   "id": "7802ac87-10cc-4537-9290-ecc4f05c6305",
   "metadata": {
    "tags": []
   },
   "outputs": [],
   "source": [
    "X_train, X_test, y_train, y_test = train_test_split(X1, Y1, test_size = 0.20)"
   ]
  },
  {
   "cell_type": "markdown",
   "id": "8bb82ff2-1bbf-4be6-b7a3-7f00d9734a07",
   "metadata": {},
   "source": [
    "## 4 Generate Classification Model"
   ]
  },
  {
   "cell_type": "code",
   "execution_count": 42,
   "id": "8395bd09-0101-4c4b-9a2a-303262ad0866",
   "metadata": {
    "tags": []
   },
   "outputs": [
    {
     "data": {
      "text/plain": [
       "LogisticRegression(random_state=0, solver='liblinear')"
      ]
     },
     "execution_count": 42,
     "metadata": {},
     "output_type": "execute_result"
    }
   ],
   "source": [
    "# Fitting Logistic Regression to the Training set\n",
    "classifier = LogisticRegression(solver='liblinear', random_state = 0)\n",
    "classifier.fit(X_train, y_train)"
   ]
  },
  {
   "cell_type": "markdown",
   "id": "2a6c745e-b9cc-4764-8ef8-23ba48c46bf3",
   "metadata": {},
   "source": [
    "## 5 Predict and Evaluate Model"
   ]
  },
  {
   "cell_type": "code",
   "execution_count": 43,
   "id": "cfdd51e1-fca1-4f6b-8672-289628979f0d",
   "metadata": {
    "tags": []
   },
   "outputs": [
    {
     "name": "stdout",
     "output_type": "stream",
     "text": [
      "train accuracy: 0.86.\n",
      "train precision: 0.79.\n",
      "train recall: 0.56.\n"
     ]
    }
   ],
   "source": [
    "y_pred=classifier.predict(X_test)\n",
    "\n",
    "accuracy = metrics.accuracy_score(y_test, y_pred)\n",
    "print(\"train accuracy: %.2f.\" %accuracy)\n",
    "\n",
    "precision = metrics.precision_score(y_test, y_pred)\n",
    "print(\"train precision: %.2f.\" %precision)\n",
    "\n",
    "recall = metrics.recall_score(y_test, y_pred)\n",
    "print(\"train recall: %.2f.\" %recall)"
   ]
  },
  {
   "cell_type": "code",
   "execution_count": 47,
   "id": "54c9dbf9-a962-4098-baa7-21d6d92c62b0",
   "metadata": {
    "tags": []
   },
   "outputs": [
    {
     "name": "stdout",
     "output_type": "stream",
     "text": [
      "              precision    recall  f1-score   support\n",
      "\n",
      "           0       0.87      0.95      0.91       304\n",
      "           1       0.79      0.56      0.66        96\n",
      "\n",
      "    accuracy                           0.86       400\n",
      "   macro avg       0.83      0.76      0.79       400\n",
      "weighted avg       0.85      0.86      0.85       400\n",
      "\n"
     ]
    }
   ],
   "source": [
    "print(classification_report(y_test, y_pred))"
   ]
  },
  {
   "cell_type": "markdown",
   "id": "c9025621-86ae-4499-bf0b-73e153b6f7a5",
   "metadata": {},
   "source": [
    "### Checking for Percentages"
   ]
  },
  {
   "cell_type": "code",
   "execution_count": 44,
   "id": "38de4c9b-4fca-4c44-b915-b04bc11286a5",
   "metadata": {
    "tags": []
   },
   "outputs": [
    {
     "name": "stdout",
     "output_type": "stream",
     "text": [
      "Percentage of True Predictions: 17.00%\n",
      "Percentage of False Predictions: 83.00%\n"
     ]
    }
   ],
   "source": [
    "# Calculate the percentage of True and False predictions\n",
    "percentage_true = (y_pred == 1).sum() / len(y_pred) * 100\n",
    "percentage_false = (y_pred == 0).sum() / len(y_pred) * 100\n",
    "\n",
    "# Display the percentages\n",
    "print(f\"Percentage of True Predictions: {percentage_true:.2f}%\")\n",
    "print(f\"Percentage of False Predictions: {percentage_false:.2f}%\")"
   ]
  },
  {
   "cell_type": "code",
   "execution_count": 45,
   "id": "6a821849-4d42-4311-9ce0-9b362260542e",
   "metadata": {
    "tags": []
   },
   "outputs": [
    {
     "name": "stdout",
     "output_type": "stream",
     "text": [
      "      Original  Predicted\n",
      "555          0          0\n",
      "908          0          0\n",
      "1553         0          0\n",
      "578          0          0\n",
      "12           0          0\n",
      "1974         1          1\n",
      "1821         0          0\n",
      "1209         1          0\n",
      "812          0          0\n",
      "1891         0          0\n"
     ]
    }
   ],
   "source": [
    "df1 = pd.DataFrame()\n",
    "df1['Original'] = y_test[:10]\n",
    "df1['Predicted'] = y_pred[:10]\n",
    "\n",
    "print(df1)"
   ]
  },
  {
   "cell_type": "markdown",
   "id": "2f376ad3-cd52-4c22-9a11-3885cc8875da",
   "metadata": {},
   "source": [
    "## 6 Saving Model"
   ]
  },
  {
   "cell_type": "code",
   "execution_count": 46,
   "id": "25d46484-f792-4b4e-8eac-c7b307e94175",
   "metadata": {
    "tags": []
   },
   "outputs": [
    {
     "data": {
      "text/plain": [
       "['classifier.joblib']"
      ]
     },
     "execution_count": 46,
     "metadata": {},
     "output_type": "execute_result"
    }
   ],
   "source": [
    "# To save an encoder\n",
    "from joblib import dump\n",
    "dump(le, 'label_encoder.joblib')\n",
    "\n",
    "from joblib import dump\n",
    "dump(classifier, 'classifier.joblib')"
   ]
  },
  {
   "cell_type": "code",
   "execution_count": null,
   "id": "580c2e00-d9b7-409d-b07b-57f2353f1f51",
   "metadata": {},
   "outputs": [],
   "source": []
  }
 ],
 "metadata": {
  "kernelspec": {
   "display_name": "Python 3 (ipykernel)",
   "language": "python",
   "name": "python3"
  },
  "language_info": {
   "codemirror_mode": {
    "name": "ipython",
    "version": 3
   },
   "file_extension": ".py",
   "mimetype": "text/x-python",
   "name": "python",
   "nbconvert_exporter": "python",
   "pygments_lexer": "ipython3",
   "version": "3.7.16"
  }
 },
 "nbformat": 4,
 "nbformat_minor": 5
}
