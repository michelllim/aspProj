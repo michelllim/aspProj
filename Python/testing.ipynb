{
 "cells": [
  {
   "cell_type": "code",
   "execution_count": 10,
   "id": "b528657a-945f-4019-ac4c-d39073707bb8",
   "metadata": {
    "tags": []
   },
   "outputs": [],
   "source": [
    "import warnings\n",
    "warnings.simplefilter(action='ignore', category=FutureWarning)"
   ]
  },
  {
   "cell_type": "code",
   "execution_count": 27,
   "id": "5aefdec1-3a9d-4207-9f92-df5e2a7f788a",
   "metadata": {
    "tags": []
   },
   "outputs": [],
   "source": [
    "import numpy as np\n",
    "import pandas as pd \n",
    "\n",
    "from sklearn import tree\n",
    "from sklearn.tree import DecisionTreeClassifier\n",
    "from sklearn import preprocessing\n",
    "from sklearn.model_selection import train_test_split, cross_val_score, GridSearchCV, RepeatedStratifiedKFold\n",
    "from sklearn import metrics\n",
    "from sklearn.metrics import confusion_matrix, classification_report, ConfusionMatrixDisplay, accuracy_score, precision_score, recall_score, f1_score"
   ]
  },
  {
   "cell_type": "code",
   "execution_count": 28,
   "id": "f78ea0cf-f6bf-449d-bbb2-837e2a8fad77",
   "metadata": {
    "tags": []
   },
   "outputs": [],
   "source": [
    "#Load csv\n",
    "df = pd.read_csv(\"./dataset/tbpred.csv\")"
   ]
  },
  {
   "cell_type": "code",
   "execution_count": 29,
   "id": "9fc91dba-b4c0-4273-9c67-7dd1789450c6",
   "metadata": {
    "tags": []
   },
   "outputs": [],
   "source": [
    "#Label Encode 'Country of Birth' \n",
    "le = preprocessing.LabelEncoder()\n",
    "df['encoded_country'] = le.fit_transform(df['Country of Birth'])"
   ]
  },
  {
   "cell_type": "code",
   "execution_count": 30,
   "id": "0275c1fd-a8e2-4393-ac7d-b97605a3fe31",
   "metadata": {
    "tags": []
   },
   "outputs": [],
   "source": [
    "#One Hot Encode 'Gender' \n",
    "df_encoded = pd.get_dummies(data = df, columns=['Gender'])\n",
    "df_encoded['Gender_male'] = df_encoded['Gender_male'].astype(int)\n",
    "df_encoded['Gender_female'] = df_encoded['Gender_female'].astype(int)"
   ]
  },
  {
   "cell_type": "code",
   "execution_count": 31,
   "id": "21c0c4a0-1389-4f8b-b127-3a0f90c9f0f8",
   "metadata": {
    "tags": []
   },
   "outputs": [],
   "source": [
    "X = df_encoded.drop(['Name','Country of Birth'], axis=1)"
   ]
  },
  {
   "cell_type": "code",
   "execution_count": 32,
   "id": "0384bb06-0db0-41e7-919f-ad9efe367906",
   "metadata": {
    "tags": []
   },
   "outputs": [],
   "source": [
    "def metrics_calculator(y_test, y_pred, model_name):\n",
    "    '''\n",
    "    This function calculates all desired performance metrics for a given model.\n",
    "    '''\n",
    "    result = pd.DataFrame(data=[accuracy_score(y_test, y_pred),\n",
    "                                precision_score(y_test, y_pred, average='macro'),\n",
    "                                recall_score(y_test, y_pred, average='macro'),\n",
    "                                f1_score(y_test, y_pred, average='macro')],\n",
    "                          index=['Accuracy','Precision','Recall','F1-score'],\n",
    "                          columns = [model_name])\n",
    "    return result"
   ]
  },
  {
   "cell_type": "code",
   "execution_count": null,
   "id": "54fba18a-4b9d-4d23-bf64-1947239e4e41",
   "metadata": {},
   "outputs": [],
   "source": [
    "X1 = X.drop('tb_pred', axis=1)\n",
    "Y1 = X['tb_pred']"
   ]
  },
  {
   "cell_type": "code",
   "execution_count": null,
   "id": "49065656-d68f-4954-875d-0a0f46bb2fd9",
   "metadata": {},
   "outputs": [],
   "source": [
    "scaler = MinMaxScaler()\n",
    "X_scaled = pd.DataFrame(scaler.fit_transform(X1), columns=X1.columns)"
   ]
  },
  {
   "cell_type": "code",
   "execution_count": null,
   "id": "eccbcb55-6c5f-42a0-b2f2-d1691ff125cb",
   "metadata": {},
   "outputs": [],
   "source": [
    "X_train, X_test, y_train, y_test = train_test_split(X_scaled, Y1, test_size = 0.15)"
   ]
  },
  {
   "cell_type": "code",
   "execution_count": null,
   "id": "9529574e-af6f-48f6-9bb5-ecf86efc512f",
   "metadata": {},
   "outputs": [],
   "source": []
  },
  {
   "cell_type": "code",
   "execution_count": 26,
   "id": "de5f5fc7-0282-4fb1-aa76-638a1fa3c3ba",
   "metadata": {
    "tags": []
   },
   "outputs": [
    {
     "ename": "NameError",
     "evalue": "name 'predictions5' is not defined",
     "output_type": "error",
     "traceback": [
      "\u001b[1;31m---------------------------------------------------------------------------\u001b[0m",
      "\u001b[1;31mNameError\u001b[0m                                 Traceback (most recent call last)",
      "\u001b[1;32m~\\AppData\\Local\\Temp\\ipykernel_50840\\2030696605.py\u001b[0m in \u001b[0;36m<module>\u001b[1;34m\u001b[0m\n\u001b[0;32m      4\u001b[0m \u001b[1;31m# make predictions on the test set and calculate and print the accuracy\u001b[0m\u001b[1;33m\u001b[0m\u001b[1;33m\u001b[0m\u001b[1;33m\u001b[0m\u001b[0m\n\u001b[0;32m      5\u001b[0m \u001b[0mpredictions1\u001b[0m \u001b[1;33m=\u001b[0m \u001b[0mGradient_Boosting\u001b[0m\u001b[1;33m.\u001b[0m\u001b[0mpredict\u001b[0m\u001b[1;33m(\u001b[0m\u001b[0mX_test\u001b[0m\u001b[1;33m)\u001b[0m\u001b[1;33m\u001b[0m\u001b[1;33m\u001b[0m\u001b[0m\n\u001b[1;32m----> 6\u001b[1;33m \u001b[0maccuracy\u001b[0m \u001b[1;33m=\u001b[0m \u001b[0mmetrics\u001b[0m\u001b[1;33m.\u001b[0m\u001b[0maccuracy_score\u001b[0m\u001b[1;33m(\u001b[0m\u001b[0mpredictions5\u001b[0m\u001b[1;33m,\u001b[0m \u001b[0my_test\u001b[0m\u001b[1;33m)\u001b[0m\u001b[1;33m\u001b[0m\u001b[1;33m\u001b[0m\u001b[0m\n\u001b[0m\u001b[0;32m      7\u001b[0m \u001b[0mprint\u001b[0m\u001b[1;33m(\u001b[0m\u001b[1;34m'Accuracy of the GradientBoosting on the test set:'\u001b[0m\u001b[1;33m,\u001b[0m \u001b[0maccuracy\u001b[0m\u001b[1;33m)\u001b[0m\u001b[1;33m\u001b[0m\u001b[1;33m\u001b[0m\u001b[0m\n\u001b[0;32m      8\u001b[0m \u001b[1;33m\u001b[0m\u001b[0m\n",
      "\u001b[1;31mNameError\u001b[0m: name 'predictions5' is not defined"
     ]
    }
   ],
   "source": [
    "#Train model\n",
    "dt_classifier = DecisionTreeClassifier(random_state=20)\n",
    "dt_classifier.fit(X_train, y_train)"
   ]
  },
  {
   "cell_type": "code",
   "execution_count": null,
   "id": "f774fa24-851b-4241-9ee8-e6e01cc48fb7",
   "metadata": {
    "tags": []
   },
   "outputs": [],
   "source": [
    "prediction_dt = dt_classifier.predict(X_train)\n",
    "accuracy_dt = accuracy_score(y_train, prediction_dt)\n",
    "print(f\"Train Accuracy: {accuracy_dt}\")\n",
    "predictions_dt = dt_classifier.predict(X_test)\n",
    "accuracy_dt = accuracy_score(y_test, predictions_dt)\n",
    "print(f\"Test Accuracy: {accuracy_dt}\")"
   ]
  },
  {
   "cell_type": "code",
   "execution_count": null,
   "id": "e08ffb62-ceea-4cdf-9a6b-b39867dce42c",
   "metadata": {},
   "outputs": [],
   "source": [
    "X3 = X.drop('tb_pred', axis=1)\n",
    "Y3 = X['tb_pred'].values.reshape(-1, 1)"
   ]
  },
  {
   "cell_type": "code",
   "execution_count": null,
   "id": "de6306fe-ecd8-4b98-834e-e5500c74464e",
   "metadata": {},
   "outputs": [],
   "source": [
    "# Check the shape of X and y\n",
    "print ('X:', X3.shape,'\\nY:', Y3.shape)"
   ]
  },
  {
   "cell_type": "code",
   "execution_count": null,
   "id": "d71b8cf9-a59c-4ca8-8444-88e972a8c4e1",
   "metadata": {},
   "outputs": [],
   "source": [
    "# Split X and y into training and testing sets\n",
    "X_train2, X_test2, y_train2, y_test2 = train_test_split (X3, Y3, stratify=Y2, test_size = 0.25, random_state = 0)"
   ]
  },
  {
   "cell_type": "code",
   "execution_count": null,
   "id": "6aebbf2d-9209-4135-919d-cd003809d607",
   "metadata": {},
   "outputs": [],
   "source": [
    "# Instantiate the model\n",
    "DT_model = DecisionTreeClassifier(max_depth=3)\n",
    "\n",
    "# Fit the model to the training set\n",
    "DT_model.fit(X_train2, y_train2)"
   ]
  },
  {
   "cell_type": "code",
   "execution_count": null,
   "id": "f2c8566f-7150-43c1-987a-bfee68424524",
   "metadata": {},
   "outputs": [],
   "source": [
    "print('Model accuracy score: {0:0.4f}'. format(accuracy_score(y_test2, y_pred3)))"
   ]
  },
  {
   "cell_type": "code",
   "execution_count": null,
   "id": "a607a938-48d9-492e-8ff6-e2d51e5e5202",
   "metadata": {},
   "outputs": [],
   "source": [
    "print(classification_report(y_test2, y_pred3))"
   ]
  },
  {
   "cell_type": "code",
   "execution_count": null,
   "id": "acd4ea02-e662-4ddf-94d4-0329d73e43fc",
   "metadata": {},
   "outputs": [],
   "source": [
    "BaseDT_result = metrics_calculator(y_test2, y_pred3, 'Base Decision Tree')\n",
    "BaseDT_result"
   ]
  },
  {
   "cell_type": "code",
   "execution_count": null,
   "id": "8845bb48-94c7-4af0-b77d-627b7f57cbd2",
   "metadata": {},
   "outputs": [],
   "source": [
    "# Finding optimal hyperparameters(GridSearchCV)\n",
    "\n",
    "# Define model\n",
    "model = DecisionTreeClassifier()\n",
    "\n",
    "# Define evaluation\n",
    "cv = RepeatedStratifiedKFold(n_splits=10, n_repeats=3, random_state=0)\n",
    "\n",
    "# Define search parameters\n",
    "max_depth = range(2, 19, 1)\n",
    "criterion = ['entropy', 'gini']   \n",
    "\n",
    "#min_samples_split = [2, 3, 4]\n",
    "#min_samples_leaf = [1, 2, 3]\n",
    "\n",
    "param_grid = {'max_depth': max_depth, 'criterion':criterion}\n",
    "\n",
    "# Define search\n",
    "search = GridSearchCV(model, param_grid, scoring='accuracy', n_jobs=-1, cv=cv)\n",
    "\n",
    "# Execute search\n",
    "GridSearchCV = search.fit(X_train2, y_train2)\n",
    "\n",
    "# Set the clf to the best combination of parameters\n",
    "DT_modelcv = GridSearchCV.best_estimator_\n",
    "\n",
    "# Summarize result\n",
    "print('Best Score: %s' % GridSearchCV.best_score_)\n",
    "print('Best Hyperparameters: %s' % GridSearchCV.best_params_)"
   ]
  },
  {
   "cell_type": "code",
   "execution_count": null,
   "id": "e908d0ae-18b6-4215-b64d-5600917a103d",
   "metadata": {},
   "outputs": [],
   "source": [
    "DT_modelcv.fit(X_train2, y_train2)"
   ]
  },
  {
   "cell_type": "code",
   "execution_count": null,
   "id": "5438daa2-c99d-479c-aaf9-56e6add72e2d",
   "metadata": {},
   "outputs": [],
   "source": [
    "y_pred4 = DT_modelcv.predict(X_test2)"
   ]
  },
  {
   "cell_type": "code",
   "execution_count": null,
   "id": "19dc87c5-4f39-4fbf-a05a-de263c1f6ffa",
   "metadata": {},
   "outputs": [],
   "source": [
    "print('Model accuracy score: {0:0.4f}'. format(accuracy_score(y_test2, y_pred4)))"
   ]
  },
  {
   "cell_type": "code",
   "execution_count": null,
   "id": "25de04ef-d667-48fc-b66a-28a8e45c89e9",
   "metadata": {},
   "outputs": [],
   "source": [
    "print(classification_report(y_test2, y_pred4))"
   ]
  },
  {
   "cell_type": "code",
   "execution_count": null,
   "id": "765eac5b-4922-4318-8b9e-dd083749bff9",
   "metadata": {},
   "outputs": [],
   "source": [
    "TunedDT_result = metrics_calculator(y_test2, y_pred4, 'Tuned Decision Tree')\n",
    "TunedDT_result"
   ]
  }
 ],
 "metadata": {
  "kernelspec": {
   "display_name": "Python 3 (ipykernel)",
   "language": "python",
   "name": "python3"
  },
  "language_info": {
   "codemirror_mode": {
    "name": "ipython",
    "version": 3
   },
   "file_extension": ".py",
   "mimetype": "text/x-python",
   "name": "python",
   "nbconvert_exporter": "python",
   "pygments_lexer": "ipython3",
   "version": "3.7.16"
  }
 },
 "nbformat": 4,
 "nbformat_minor": 5
}
