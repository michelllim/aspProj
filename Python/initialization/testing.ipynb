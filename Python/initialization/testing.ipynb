{
 "cells": [
  {
   "cell_type": "markdown",
   "id": "8b281e9a-37f1-41e5-9568-db43f118c469",
   "metadata": {},
   "source": [
    "# Not Used. For Testing Purposes Only."
   ]
  },
  {
   "cell_type": "code",
   "execution_count": 1,
   "id": "b528657a-945f-4019-ac4c-d39073707bb8",
   "metadata": {
    "tags": []
   },
   "outputs": [],
   "source": [
    "import warnings\n",
    "warnings.simplefilter(action='ignore', category=FutureWarning)"
   ]
  },
  {
   "cell_type": "code",
   "execution_count": 2,
   "id": "5aefdec1-3a9d-4207-9f92-df5e2a7f788a",
   "metadata": {
    "tags": []
   },
   "outputs": [],
   "source": [
    "import numpy as np\n",
    "import pandas as pd \n",
    "\n",
    "from sklearn import tree\n",
    "from sklearn.tree import DecisionTreeClassifier\n",
    "\n",
    "from sklearn import preprocessing\n",
    "from sklearn.model_selection import train_test_split, cross_val_score, GridSearchCV, RepeatedStratifiedKFold\n",
    "from sklearn import metrics\n",
    "from sklearn.metrics import confusion_matrix, classification_report, ConfusionMatrixDisplay, accuracy_score, precision_score, recall_score, f1_score"
   ]
  },
  {
   "cell_type": "code",
   "execution_count": 3,
   "id": "f78ea0cf-f6bf-449d-bbb2-837e2a8fad77",
   "metadata": {
    "tags": []
   },
   "outputs": [],
   "source": [
    "#Load csv\n",
    "df = pd.read_csv(\"./dataset/tbpred.csv\")"
   ]
  },
  {
   "cell_type": "code",
   "execution_count": 136,
   "id": "9fc91dba-b4c0-4273-9c67-7dd1789450c6",
   "metadata": {
    "tags": []
   },
   "outputs": [],
   "source": [
    "#Label Encode 'Country of Birth' \n",
    "le = preprocessing.LabelEncoder()\n",
    "df['encoded_country'] = le.fit_transform(df['CountryofBirth'])"
   ]
  },
  {
   "cell_type": "code",
   "execution_count": 137,
   "id": "21c0c4a0-1389-4f8b-b127-3a0f90c9f0f8",
   "metadata": {
    "tags": []
   },
   "outputs": [],
   "source": [
    "X = df.drop(['Name','CountryofBirth'], axis=1)"
   ]
  },
  {
   "cell_type": "code",
   "execution_count": 138,
   "id": "0384bb06-0db0-41e7-919f-ad9efe367906",
   "metadata": {
    "tags": []
   },
   "outputs": [],
   "source": [
    "def metrics_calculator(y_test, y_pred, model_name):\n",
    "    '''\n",
    "    This function calculates all desired performance metrics for a given model.\n",
    "    '''\n",
    "    result = pd.DataFrame(data=[accuracy_score(y_test, y_pred),\n",
    "                                precision_score(y_test, y_pred, average='macro'),\n",
    "                                recall_score(y_test, y_pred, average='macro'),\n",
    "                                f1_score(y_test, y_pred, average='macro')],\n",
    "                          index=['Accuracy','Precision','Recall','F1-score'],\n",
    "                          columns = [model_name])\n",
    "    return result"
   ]
  },
  {
   "cell_type": "code",
   "execution_count": 139,
   "id": "e08ffb62-ceea-4cdf-9a6b-b39867dce42c",
   "metadata": {
    "tags": []
   },
   "outputs": [],
   "source": [
    "X2 = X.drop('tb_pred', axis=1)\n",
    "Y2 = X['tb_pred'].values.reshape(-1, 1)"
   ]
  },
  {
   "cell_type": "code",
   "execution_count": 140,
   "id": "de6306fe-ecd8-4b98-834e-e5500c74464e",
   "metadata": {
    "tags": []
   },
   "outputs": [
    {
     "name": "stdout",
     "output_type": "stream",
     "text": [
      "X: (2000, 22) \n",
      "Y: (2000, 1)\n"
     ]
    }
   ],
   "source": [
    "# Check the shape of X and y\n",
    "print ('X:', X2.shape,'\\nY:', Y2.shape)"
   ]
  },
  {
   "cell_type": "code",
   "execution_count": 141,
   "id": "d71b8cf9-a59c-4ca8-8444-88e972a8c4e1",
   "metadata": {
    "tags": []
   },
   "outputs": [],
   "source": [
    "# Split X and y into training and testing sets\n",
    "X_train2, X_test2, y_train2, y_test2 = train_test_split (X2, Y2, stratify=Y2, test_size = 0.25, random_state = 0)"
   ]
  },
  {
   "cell_type": "code",
   "execution_count": 142,
   "id": "6aebbf2d-9209-4135-919d-cd003809d607",
   "metadata": {
    "tags": []
   },
   "outputs": [
    {
     "data": {
      "text/plain": [
       "DecisionTreeClassifier(max_depth=3)"
      ]
     },
     "execution_count": 142,
     "metadata": {},
     "output_type": "execute_result"
    }
   ],
   "source": [
    "# Instantiate the model\n",
    "DT_model = DecisionTreeClassifier(max_depth=3)\n",
    "\n",
    "# Fit the model to the training set\n",
    "DT_model.fit(X_train2, y_train2)"
   ]
  },
  {
   "cell_type": "code",
   "execution_count": 143,
   "id": "8afa4f2d-50e0-4641-aed2-f1f5d1357cde",
   "metadata": {
    "tags": []
   },
   "outputs": [],
   "source": [
    "y_pred = DT_model.predict(X_test2)"
   ]
  },
  {
   "cell_type": "code",
   "execution_count": 144,
   "id": "f2c8566f-7150-43c1-987a-bfee68424524",
   "metadata": {
    "tags": []
   },
   "outputs": [
    {
     "name": "stdout",
     "output_type": "stream",
     "text": [
      "Model accuracy score: 0.7640\n"
     ]
    }
   ],
   "source": [
    "print('Model accuracy score: {0:0.4f}'. format(accuracy_score(y_test2, y_pred)))"
   ]
  },
  {
   "cell_type": "code",
   "execution_count": 145,
   "id": "a607a938-48d9-492e-8ff6-e2d51e5e5202",
   "metadata": {
    "tags": []
   },
   "outputs": [
    {
     "name": "stdout",
     "output_type": "stream",
     "text": [
      "              precision    recall  f1-score   support\n",
      "\n",
      "           0       0.80      0.93      0.86       380\n",
      "           1       0.52      0.24      0.33       120\n",
      "\n",
      "    accuracy                           0.76       500\n",
      "   macro avg       0.66      0.59      0.59       500\n",
      "weighted avg       0.73      0.76      0.73       500\n",
      "\n"
     ]
    }
   ],
   "source": [
    "print(classification_report(y_test2, y_pred))"
   ]
  },
  {
   "cell_type": "code",
   "execution_count": 146,
   "id": "acd4ea02-e662-4ddf-94d4-0329d73e43fc",
   "metadata": {
    "tags": []
   },
   "outputs": [
    {
     "data": {
      "text/html": [
       "<div>\n",
       "<style scoped>\n",
       "    .dataframe tbody tr th:only-of-type {\n",
       "        vertical-align: middle;\n",
       "    }\n",
       "\n",
       "    .dataframe tbody tr th {\n",
       "        vertical-align: top;\n",
       "    }\n",
       "\n",
       "    .dataframe thead th {\n",
       "        text-align: right;\n",
       "    }\n",
       "</style>\n",
       "<table border=\"1\" class=\"dataframe\">\n",
       "  <thead>\n",
       "    <tr style=\"text-align: right;\">\n",
       "      <th></th>\n",
       "      <th>Base Decision Tree</th>\n",
       "    </tr>\n",
       "  </thead>\n",
       "  <tbody>\n",
       "    <tr>\n",
       "      <th>Accuracy</th>\n",
       "      <td>0.764000</td>\n",
       "    </tr>\n",
       "    <tr>\n",
       "      <th>Precision</th>\n",
       "      <td>0.656451</td>\n",
       "    </tr>\n",
       "    <tr>\n",
       "      <th>Recall</th>\n",
       "      <td>0.585307</td>\n",
       "    </tr>\n",
       "    <tr>\n",
       "      <th>F1-score</th>\n",
       "      <td>0.593171</td>\n",
       "    </tr>\n",
       "  </tbody>\n",
       "</table>\n",
       "</div>"
      ],
      "text/plain": [
       "           Base Decision Tree\n",
       "Accuracy             0.764000\n",
       "Precision            0.656451\n",
       "Recall               0.585307\n",
       "F1-score             0.593171"
      ]
     },
     "execution_count": 146,
     "metadata": {},
     "output_type": "execute_result"
    }
   ],
   "source": [
    "BaseDT_result = metrics_calculator(y_test2, y_pred, 'Base Decision Tree')\n",
    "BaseDT_result"
   ]
  },
  {
   "cell_type": "code",
   "execution_count": 147,
   "id": "8845bb48-94c7-4af0-b77d-627b7f57cbd2",
   "metadata": {
    "tags": []
   },
   "outputs": [
    {
     "name": "stdout",
     "output_type": "stream",
     "text": [
      "Best Score: 0.8175555555555554\n",
      "Best Hyperparameters: {'criterion': 'gini', 'max_depth': 5}\n"
     ]
    }
   ],
   "source": [
    "#Finding optimal hyperparameters(GridSearchCV)\n",
    "\n",
    "# Define model\n",
    "model = DecisionTreeClassifier()\n",
    "\n",
    "# Define evaluation\n",
    "cv = RepeatedStratifiedKFold(n_splits=10, n_repeats=3, random_state=0)\n",
    "\n",
    "# Define search parameters\n",
    "max_depth = range(2, 19, 1)\n",
    "criterion = ['entropy', 'gini']   \n",
    "\n",
    "#min_samples_split = [2, 3, 4]\n",
    "#min_samples_leaf = [1, 2, 3]\n",
    "\n",
    "param_grid = {'max_depth': max_depth, 'criterion':criterion}\n",
    "\n",
    "# Define search\n",
    "search = GridSearchCV(model, param_grid, scoring='accuracy', n_jobs=1, cv=cv)\n",
    "\n",
    "# Execute search\n",
    "GridSearchCV = search.fit(X_train2, y_train2)\n",
    "\n",
    "# Set the clf to the best combination of parameters\n",
    "DT_modelcv = GridSearchCV.best_estimator_\n",
    "\n",
    "# Summarize result\n",
    "print('Best Score: %s' % GridSearchCV.best_score_)\n",
    "print('Best Hyperparameters: %s' % GridSearchCV.best_params_)"
   ]
  },
  {
   "cell_type": "code",
   "execution_count": 148,
   "id": "e908d0ae-18b6-4215-b64d-5600917a103d",
   "metadata": {
    "tags": []
   },
   "outputs": [
    {
     "data": {
      "text/plain": [
       "DecisionTreeClassifier(max_depth=5)"
      ]
     },
     "execution_count": 148,
     "metadata": {},
     "output_type": "execute_result"
    }
   ],
   "source": [
    "DT_modelcv.fit(X_train2, y_train2)"
   ]
  },
  {
   "cell_type": "code",
   "execution_count": 149,
   "id": "5438daa2-c99d-479c-aaf9-56e6add72e2d",
   "metadata": {
    "tags": []
   },
   "outputs": [],
   "source": [
    "y_pred2 = DT_modelcv.predict(X_test2)"
   ]
  },
  {
   "cell_type": "code",
   "execution_count": 150,
   "id": "19dc87c5-4f39-4fbf-a05a-de263c1f6ffa",
   "metadata": {
    "tags": []
   },
   "outputs": [
    {
     "name": "stdout",
     "output_type": "stream",
     "text": [
      "Model accuracy score: 0.7920\n"
     ]
    }
   ],
   "source": [
    "print('Model accuracy score: {0:0.4f}'. format(accuracy_score(y_test2, y_pred2)))"
   ]
  },
  {
   "cell_type": "code",
   "execution_count": 151,
   "id": "25de04ef-d667-48fc-b66a-28a8e45c89e9",
   "metadata": {
    "tags": []
   },
   "outputs": [
    {
     "name": "stdout",
     "output_type": "stream",
     "text": [
      "              precision    recall  f1-score   support\n",
      "\n",
      "           0       0.83      0.91      0.87       380\n",
      "           1       0.60      0.41      0.49       120\n",
      "\n",
      "    accuracy                           0.79       500\n",
      "   macro avg       0.71      0.66      0.68       500\n",
      "weighted avg       0.77      0.79      0.78       500\n",
      "\n"
     ]
    }
   ],
   "source": [
    "print(classification_report(y_test2, y_pred2))"
   ]
  },
  {
   "cell_type": "code",
   "execution_count": 152,
   "id": "765eac5b-4922-4318-8b9e-dd083749bff9",
   "metadata": {
    "tags": []
   },
   "outputs": [
    {
     "data": {
      "text/html": [
       "<div>\n",
       "<style scoped>\n",
       "    .dataframe tbody tr th:only-of-type {\n",
       "        vertical-align: middle;\n",
       "    }\n",
       "\n",
       "    .dataframe tbody tr th {\n",
       "        vertical-align: top;\n",
       "    }\n",
       "\n",
       "    .dataframe thead th {\n",
       "        text-align: right;\n",
       "    }\n",
       "</style>\n",
       "<table border=\"1\" class=\"dataframe\">\n",
       "  <thead>\n",
       "    <tr style=\"text-align: right;\">\n",
       "      <th></th>\n",
       "      <th>Tuned Decision Tree</th>\n",
       "    </tr>\n",
       "  </thead>\n",
       "  <tbody>\n",
       "    <tr>\n",
       "      <th>Accuracy</th>\n",
       "      <td>0.792000</td>\n",
       "    </tr>\n",
       "    <tr>\n",
       "      <th>Precision</th>\n",
       "      <td>0.713852</td>\n",
       "    </tr>\n",
       "    <tr>\n",
       "      <th>Recall</th>\n",
       "      <td>0.660746</td>\n",
       "    </tr>\n",
       "    <tr>\n",
       "      <th>F1-score</th>\n",
       "      <td>0.677411</td>\n",
       "    </tr>\n",
       "  </tbody>\n",
       "</table>\n",
       "</div>"
      ],
      "text/plain": [
       "           Tuned Decision Tree\n",
       "Accuracy              0.792000\n",
       "Precision             0.713852\n",
       "Recall                0.660746\n",
       "F1-score              0.677411"
      ]
     },
     "execution_count": 152,
     "metadata": {},
     "output_type": "execute_result"
    }
   ],
   "source": [
    "TunedDT_result = metrics_calculator(y_test2, y_pred2, 'Tuned Decision Tree')\n",
    "TunedDT_result"
   ]
  },
  {
   "cell_type": "code",
   "execution_count": 153,
   "id": "5b9c91fd-4905-4a7d-b3ae-c405e9cc579b",
   "metadata": {
    "tags": []
   },
   "outputs": [
    {
     "data": {
      "text/plain": [
       "['DT_modelcv.joblib']"
      ]
     },
     "execution_count": 153,
     "metadata": {},
     "output_type": "execute_result"
    }
   ],
   "source": [
    "# To save an encoder\n",
    "from joblib import dump\n",
    "dump(le, 'label_encoder.joblib')\n",
    "\n",
    "# To load the encoder\n",
    "from joblib import load\n",
    "le = load('label_encoder.joblib')\n",
    "\n",
    "from joblib import dump\n",
    "dump(DT_modelcv, 'DT_modelcv.joblib')"
   ]
  },
  {
   "cell_type": "code",
   "execution_count": null,
   "id": "91534cfa-2c21-447b-8d07-2ad346d24298",
   "metadata": {},
   "outputs": [],
   "source": []
  }
 ],
 "metadata": {
  "kernelspec": {
   "display_name": "Python 3 (ipykernel)",
   "language": "python",
   "name": "python3"
  },
  "language_info": {
   "codemirror_mode": {
    "name": "ipython",
    "version": 3
   },
   "file_extension": ".py",
   "mimetype": "text/x-python",
   "name": "python",
   "nbconvert_exporter": "python",
   "pygments_lexer": "ipython3",
   "version": "3.7.16"
  }
 },
 "nbformat": 4,
 "nbformat_minor": 5
}
