{
 "cells": [
  {
   "cell_type": "markdown",
   "id": "d93b74c4-4439-43dc-9c4a-2e5e052d7100",
   "metadata": {},
   "source": [
    "#### name string, gender male/female, age range, country_of_birth, smoking 0-4, alcohol 0-4, family history y/n, close contact y/n, health conditions y/n, occupational risks y/n, physical activity 0-4, diet y/n, air pollution 0-4, long term cough y/n, chest pain y/n, appetite loss y/n, weight loss y/n, chills y/n, fatigue y/n, night sweats y/n, cough blood y/n, fevers y/n, no_range\n"
   ]
  },
  {
   "cell_type": "code",
   "execution_count": 7,
   "id": "4a1b6d24-edf4-44bc-85a5-fb803127a5fe",
   "metadata": {},
   "outputs": [],
   "source": [
    "# Import necessary libraries and modules.\n",
    "from faker import Faker\n",
    "from faker.providers import internet\n",
    "import csv\n",
    "import random"
   ]
  },
  {
   "cell_type": "code",
   "execution_count": 8,
   "id": "0f60ed44-89a4-4f1c-adf0-224f55b453ca",
   "metadata": {},
   "outputs": [],
   "source": [
    "# Function to generate user data with the specified number of users.\n",
    "def generate_user_data(num_of_users):\n",
    "   # Create a Faker instance.\n",
    "   fake = Faker()\n",
    "   # Add the Internet provider to generate email addresses and IP addresses.\n",
    "   fake.add_provider(internet)\n",
    "   # Initialize an empty list to store user data.\n",
    "   user_data = []\n",
    "   # Loop to generate data for the specified number of users.\n",
    "   for _ in range(num_of_users):\n",
    "       # Create a dictionary representing a user with various attributes.\n",
    "       user = {\n",
    "           'Name': fake.name(),\n",
    "           'Gender': fake.random_int(min=0, max=1),\n",
    "           'Age': fake.random_int(min=5, max=100),\n",
    "           'CountryofBirth': fake.country(),\n",
    "           'Smoking': fake.random_int(min=0, max=4),\n",
    "           'Alcohol': fake.random_int(min=0, max=4),\n",
    "           'FamilyHistory': fake.random_int(min=0, max=1),\n",
    "           'CloseContact': fake.random_int(min=0, max=1),\n",
    "           'HealthConditions': fake.random_int(min=0, max=1),\n",
    "           'OccupationalRisks': fake.random_int(min=0, max=1),\n",
    "           'PhysicalActivity': fake.random_int(min=0, max=4),\n",
    "           'Diet': fake.random_int(min=0, max=1),\n",
    "           'AirPollution': fake.random_int(min=0, max=4),\n",
    "           'LongTermCough': fake.random_int(min=0, max=1),\n",
    "           'ChestPain': fake.random_int(min=0, max=1),\n",
    "           'Diet': fake.random_int(min=0, max=1),\n",
    "           'AppetiteLoss': fake.random_int(min=0, max=1),\n",
    "           'WeightLoss': fake.random_int(min=0, max=1),\n",
    "           'Chills': fake.random_int(min=0, max=1),\n",
    "           'Fatigue': fake.random_int(min=0, max=1),\n",
    "           'NightSweat': fake.random_int(min=0, max=1),\n",
    "           'CoughBlood': fake.random_int(min=0, max=1),\n",
    "           'Fevers': fake.random_int(min=0, max=1),\n",
    "           'NitricOxide': round(random.uniform(5.00, 60.00), 2)\n",
    "       }\n",
    "       # Append the user data dictionary to the user_data list.\n",
    "       user_data.append(user)\n",
    "   # Return the list of generated user data.\n",
    "   return user_data"
   ]
  },
  {
   "cell_type": "code",
   "execution_count": 9,
   "id": "e786b8cf-3146-4e10-893e-5faa14a0b600",
   "metadata": {},
   "outputs": [],
   "source": [
    "# Function to save user data to a CSV file.\n",
    "def save_to_csv(data, filename):\n",
    "   # Get the keys (column names) from the first dictionary in the data list.\n",
    "   keys = data[0].keys()\n",
    "   # Open the CSV file for writing.\n",
    "   with open(filename, 'w', newline='') as output_file:\n",
    "       # Create a CSV writer with the specified column names.\n",
    "       writer = csv.DictWriter(output_file, fieldnames=keys)\n",
    "       # Write the header row to the CSV file.\n",
    "       writer.writeheader()\n",
    "       # Iterate through each user dictionary and write a row to the CSV file.\n",
    "       for user in data:\n",
    "           writer.writerow(user)\n",
    "   # Print a success message indicating that the data has been saved to the file.\n",
    "   print(f'[+] Data saved to {filename} successfully.')"
   ]
  },
  {
   "cell_type": "code",
   "execution_count": 10,
   "id": "7e25b3f5-7f8f-4b00-8995-530b9caec841",
   "metadata": {},
   "outputs": [],
   "source": [
    "# Function to save user data to a text file.\n",
    "def save_to_text(data, filename):\n",
    "   # Open the text file for writing.\n",
    "   with open(filename, 'w') as output_file:\n",
    "       # Iterate through each user dictionary.\n",
    "       for user in data:\n",
    "           # Iterate through key-value pairs in the user dictionary and write to the text file.\n",
    "           for key, value in user.items():\n",
    "               output_file.write(f\"{key}: {value}\\n\")\n",
    "           # Add a newline between users in the text file.\n",
    "           output_file.write('\\n')\n",
    "   # Print a success message indicating that the data has been saved to the file.\n",
    "   print(f'[+] Data saved to {filename} successfully.')"
   ]
  },
  {
   "cell_type": "code",
   "execution_count": 11,
   "id": "7fbc04c4-6206-4974-b5af-6251923e02f6",
   "metadata": {},
   "outputs": [],
   "source": [
    "# Function to print user data vertically.\n",
    "def print_data_vertically(data):\n",
    "   # Iterate through each user dictionary in the data list.\n",
    "   for user in data:\n",
    "       # Iterate through key-value pairs in the user dictionary and print vertically.\n",
    "       for key, value in user.items():\n",
    "           print(f\"{key}: {value}\")\n",
    "       # Add a newline between users.\n",
    "       print()"
   ]
  },
  {
   "cell_type": "code",
   "execution_count": 12,
   "id": "6297c91d-af15-45a2-b23d-3ea7f5fcdfe5",
   "metadata": {},
   "outputs": [
    {
     "name": "stdin",
     "output_type": "stream",
     "text": [
      "[!] Enter the number of users to generate:  2000\n",
      "[?] Do you want to save the data to a file? (yes/no):  yes\n",
      "[!] Enter file type (csv/txt/both):  csv\n",
      "[!] Enter the CSV filename (without extension):  tbdata\n"
     ]
    },
    {
     "name": "stdout",
     "output_type": "stream",
     "text": [
      "[+] Data saved to ./dataset/tbdata.csv successfully.\n"
     ]
    }
   ],
   "source": [
    "# Get the number of users from user input.\n",
    "number_of_users = int(input(\"[!] Enter the number of users to generate: \"))\n",
    "# Generate user data using the specified number of users.\n",
    "user_data = generate_user_data(number_of_users)\n",
    "# Ask the user if they want to save the data to a file.\n",
    "save_option = input(\"[?] Do you want to save the data to a file? (yes/no): \").lower()\n",
    "# If the user chooses to save the data.\n",
    "if save_option == 'yes':\n",
    "   # Ask the user for the file type (CSV, TXT, or both).\n",
    "   file_type = input(\"[!] Enter file type (csv/txt/both): \").lower()\n",
    "   # Save to CSV if the user chose CSV or both.\n",
    "   if file_type == 'csv' or file_type == 'both':\n",
    "       # Ask the user for the CSV filename.\n",
    "       custom_filename_csv = input(\"[!] Enter the CSV filename (without extension): \")\n",
    "       # Concatenate the filename with the .csv extension.\n",
    "       filename_csv = f\"./dataset/{custom_filename_csv}.csv\"\n",
    "       # Call the save_to_csv function to save the data to the CSV file.\n",
    "       save_to_csv(user_data, filename_csv)\n",
    "   # Save to TXT if the user chose TXT or both.\n",
    "   if file_type == 'txt' or file_type == 'both':\n",
    "       # Ask the user for the TXT filename.\n",
    "       custom_filename_txt = input(\"[!] Enter the TXT filename (without extension): \")\n",
    "       # Concatenate the filename with the .txt extension.\n",
    "       filename_txt = f\"{custom_filename_txt}.txt\"\n",
    "       # Call the save_to_text function to save the data to the text file.\n",
    "       save_to_text(user_data, filename_txt)\n",
    "   # If the user entered an invalid file type.\n",
    "   if file_type not in ['csv', 'txt', 'both']:\n",
    "       # Print an error message indicating that the file type is invalid.\n",
    "       print(\"[-] Invalid file type. Data not saved.\")\n",
    "# If the user chose not to save the data, print it vertically.\n",
    "else:\n",
    "   # Call the print_data_vertically function to print the data vertically.\n",
    "   print_data_vertically(user_data)"
   ]
  },
  {
   "cell_type": "code",
   "execution_count": null,
   "id": "6bc87f78-50cd-40e7-8984-9c0bc2372c1e",
   "metadata": {},
   "outputs": [],
   "source": []
  }
 ],
 "metadata": {
  "kernelspec": {
   "display_name": "Python 3 (ipykernel)",
   "language": "python",
   "name": "python3"
  },
  "language_info": {
   "codemirror_mode": {
    "name": "ipython",
    "version": 3
   },
   "file_extension": ".py",
   "mimetype": "text/x-python",
   "name": "python",
   "nbconvert_exporter": "python",
   "pygments_lexer": "ipython3",
   "version": "3.7.16"
  }
 },
 "nbformat": 4,
 "nbformat_minor": 5
}
