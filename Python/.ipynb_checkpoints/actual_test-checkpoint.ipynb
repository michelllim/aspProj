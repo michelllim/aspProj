{
 "cells": [
  {
   "cell_type": "code",
   "execution_count": 1,
   "id": "a62007f2-c14a-4f10-a3d2-8f07fe1e99ee",
   "metadata": {
    "tags": []
   },
   "outputs": [],
   "source": [
    "import warnings\n",
    "warnings.simplefilter(action='ignore', category=FutureWarning)\n",
    "\n",
    "import numpy as np\n",
    "import pandas as pd \n",
    "\n",
    "from sklearn import preprocessing\n",
    "from sklearn import metrics\n",
    "from sklearn.metrics import confusion_matrix, classification_report, ConfusionMatrixDisplay, accuracy_score, precision_score, recall_score, f1_score\n",
    "from sklearn.linear_model import LogisticRegression"
   ]
  },
  {
   "cell_type": "code",
   "execution_count": 2,
   "id": "65df7c5e-6ec9-4205-ac7a-32641ce24cfb",
   "metadata": {
    "tags": []
   },
   "outputs": [],
   "source": [
    "#Load csv\n",
    "df = pd.read_csv(\"./dataset/tbpred.csv\")"
   ]
  },
  {
   "cell_type": "code",
   "execution_count": 3,
   "id": "3a249b17-3eff-4935-951e-8c7c3db049bb",
   "metadata": {
    "tags": []
   },
   "outputs": [],
   "source": [
    "#Label Encode 'Country of Birth' \n",
    "le = preprocessing.LabelEncoder()\n",
    "df['encoded_country'] = le.fit_transform(df['CountryofBirth'])\n",
    "X = df.drop(['Name','CountryofBirth'], axis=1)"
   ]
  },
  {
   "cell_type": "code",
   "execution_count": null,
   "id": "a9bdadb2-78a6-4bb6-a0b1-5e1f779628a4",
   "metadata": {},
   "outputs": [],
   "source": [
    "def metrics_calculator(y_test, y_pred, model_name):\n",
    "    '''\n",
    "    This function calculates all desired performance metrics for a given model.\n",
    "    '''\n",
    "    result = pd.DataFrame(data=[accuracy_score(y_test, y_pred),\n",
    "                                precision_score(y_test, y_pred, average='macro'),\n",
    "                                recall_score(y_test, y_pred, average='macro'),\n",
    "                                f1_score(y_test, y_pred, average='macro')],\n",
    "                          index=['Accuracy','Precision','Recall','F1-score'],\n",
    "                          columns = [model_name])\n",
    "    return result\n"
   ]
  },
  {
   "cell_type": "code",
   "execution_count": 4,
   "id": "a5dce18f-cfc2-4a0f-8655-bab33aabde4a",
   "metadata": {
    "tags": []
   },
   "outputs": [
    {
     "data": {
      "text/plain": [
       "LogisticRegression(random_state=0, solver='liblinear')"
      ]
     },
     "execution_count": 4,
     "metadata": {},
     "output_type": "execute_result"
    }
   ],
   "source": [
    "X1 = X.drop('tb_pred', axis=1)\n",
    "Y1 = X['tb_pred']\n",
    "# Fitting Logistic Regression to the Training set\n",
    "classifier = LogisticRegression(solver='liblinear', random_state = 0)\n",
    "classifier.fit(X1, Y1)"
   ]
  },
  {
   "cell_type": "code",
   "execution_count": 7,
   "id": "cfdd51e1-fca1-4f6b-8672-289628979f0d",
   "metadata": {
    "tags": []
   },
   "outputs": [
    {
     "name": "stdout",
     "output_type": "stream",
     "text": [
      "train accuracy: 0.84.\n",
      "train precision: 0.73.\n",
      "train recall: 0.52.\n"
     ]
    }
   ],
   "source": [
    "y_pred=classifier.predict(X1)\n",
    "\n",
    "accuracy = metrics.accuracy_score(Y1, y_pred)\n",
    "print(\"train accuracy: %.2f.\" %accuracy)\n",
    "\n",
    "precision = metrics.precision_score(Y1, y_pred)\n",
    "print(\"train precision: %.2f.\" %precision)\n",
    "\n",
    "recall = metrics.recall_score(Y1, y_pred)\n",
    "print(\"train recall: %.2f.\" %recall)"
   ]
  },
  {
   "cell_type": "code",
   "execution_count": 9,
   "id": "38de4c9b-4fca-4c44-b915-b04bc11286a5",
   "metadata": {
    "tags": []
   },
   "outputs": [
    {
     "name": "stdout",
     "output_type": "stream",
     "text": [
      "Percentage of True Predictions: 17.35%\n",
      "Percentage of False Predictions: 82.65%\n"
     ]
    }
   ],
   "source": [
    "# Calculate the percentage of True and False predictions\n",
    "percentage_true = (y_pred == 1).sum() / len(y_pred) * 100\n",
    "percentage_false = (y_pred == 0).sum() / len(y_pred) * 100\n",
    "\n",
    "# Display the percentages\n",
    "print(f\"Percentage of True Predictions: {percentage_true:.2f}%\")\n",
    "print(f\"Percentage of False Predictions: {percentage_false:.2f}%\")"
   ]
  },
  {
   "cell_type": "code",
   "execution_count": 11,
   "id": "25d46484-f792-4b4e-8eac-c7b307e94175",
   "metadata": {
    "tags": []
   },
   "outputs": [
    {
     "data": {
      "text/plain": [
       "['classifier.joblib']"
      ]
     },
     "execution_count": 11,
     "metadata": {},
     "output_type": "execute_result"
    }
   ],
   "source": [
    "# To save an encoder\n",
    "from joblib import dump\n",
    "dump(le, 'label_encoder.joblib')\n",
    "\n",
    "# To load the encoder\n",
    "from joblib import load\n",
    "le = load('label_encoder.joblib')\n",
    "\n",
    "from joblib import dump\n",
    "dump(classifier, 'classifier.joblib')"
   ]
  }
 ],
 "metadata": {
  "kernelspec": {
   "display_name": "Python 3 (ipykernel)",
   "language": "python",
   "name": "python3"
  },
  "language_info": {
   "codemirror_mode": {
    "name": "ipython",
    "version": 3
   },
   "file_extension": ".py",
   "mimetype": "text/x-python",
   "name": "python",
   "nbconvert_exporter": "python",
   "pygments_lexer": "ipython3",
   "version": "3.7.16"
  }
 },
 "nbformat": 4,
 "nbformat_minor": 5
}
