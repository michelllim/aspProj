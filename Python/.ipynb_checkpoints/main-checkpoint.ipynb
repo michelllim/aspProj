{
 "cells": [
  {
   "cell_type": "markdown",
   "id": "01d170fb-c862-4677-8cc1-8c14c48c2312",
   "metadata": {},
   "source": [
    "## Main File To Run Code"
   ]
  },
  {
   "cell_type": "markdown",
   "id": "3baa07bd-cdb5-4cc2-865f-676aa62279ff",
   "metadata": {},
   "source": [
    "## Imports"
   ]
  },
  {
   "cell_type": "code",
   "execution_count": 2,
   "id": "3b47b913-f302-41ea-9a85-b80fb443f16c",
   "metadata": {
    "tags": []
   },
   "outputs": [],
   "source": [
    "import warnings\n",
    "warnings.simplefilter(action='ignore', category=FutureWarning)"
   ]
  },
  {
   "cell_type": "code",
   "execution_count": 3,
   "id": "174a1501-b2ff-4be6-97f9-4fbb69852904",
   "metadata": {
    "tags": []
   },
   "outputs": [],
   "source": [
    "import firebase_admin\n",
    "from firebase_admin import credentials, firestore, auth\n",
    "import pandas as pd\n",
    "from joblib import load\n",
    "from flask import Flask, request, jsonify"
   ]
  },
  {
   "cell_type": "markdown",
   "id": "524cdd5b-a635-428f-962b-5dbcf1d86cba",
   "metadata": {},
   "source": [
    "## 1 Connecting to Firebase Account"
   ]
  },
  {
   "cell_type": "code",
   "execution_count": 4,
   "id": "b5279c58-0d85-4e28-a30a-e286cb99ec4b",
   "metadata": {
    "tags": []
   },
   "outputs": [],
   "source": [
    "cred = credentials.Certificate('./firebase-sdk.json')\n",
    "firebase_admin.initialize_app(cred)\n",
    "db = firestore.client()"
   ]
  },
  {
   "cell_type": "markdown",
   "id": "e97d7c7e-e40d-487f-8511-241020688343",
   "metadata": {},
   "source": [
    "## 2 Create Classes"
   ]
  },
  {
   "cell_type": "code",
   "execution_count": 5,
   "id": "1a339603-79bd-442f-9961-2ac71c4b2639",
   "metadata": {
    "tags": []
   },
   "outputs": [],
   "source": [
    "feature_order = ['Name', 'Gender', 'Age', 'CountryofBirth', 'Smoking', 'Alcohol', 'FamilyHistory', 'CloseContact', 'HealthConditions', 'OccupationalRisks', 'PhysicalActivity', 'Diet', 'AirPollution', 'LongTermCough', 'ChestPain', 'AppetiteLoss', 'WeightLoss', 'Chills', 'Fatigue', 'NightSweat', 'CoughBlood', 'Fevers', 'NitricOxide']"
   ]
  },
  {
   "cell_type": "markdown",
   "id": "3883ee21-a4fc-4285-933b-f9482c746fd1",
   "metadata": {},
   "source": [
    "## 3 Predict User's Data"
   ]
  },
  {
   "cell_type": "code",
   "execution_count": 6,
   "id": "582a8154-a67d-4e10-b0d0-f5166ce4d14f",
   "metadata": {
    "tags": []
   },
   "outputs": [
    {
     "name": "stdout",
     "output_type": "stream",
     "text": [
      "Predicted tb_pred for user 4PzkRocqvKdL71AtKXiu: [1]\n"
     ]
    }
   ],
   "source": [
    "# Function to fetch a user's data from Firestore\n",
    "def fetch_user_data(user_id):\n",
    "    doc_ref = db.collection('users').document(user_id)\n",
    "    doc = doc_ref.get()\n",
    "    if doc.exists:\n",
    "        #print(doc.to_dict())\n",
    "        return doc.to_dict()\n",
    "    else:\n",
    "        print(\"No such document!\")\n",
    "        return None\n",
    "\n",
    "# Function to preprocess user's data\n",
    "def preprocess_user_data(user_data):\n",
    "    # Assuming user_data is a dictionary containing the user's features\n",
    "    df = pd.DataFrame([user_data])  # Convert dict to DataFrame\n",
    "    df = df[feature_order]\n",
    "    # Apply the same preprocessing as your training data\n",
    "    # Load label encoder and transform 'Country of Birth'\n",
    "    le_country = load('label_encoder.joblib')\n",
    "    df['encoded_country'] = le_country.transform(df['CountryofBirth'])\n",
    "    \n",
    "    # Ensure all preprocessing steps match training, including dropping unused columns\n",
    "    processed_df = df.drop(['Name', 'CountryofBirth'], axis=1)\n",
    "    \n",
    "    # Return preprocessed user data ready for prediction\n",
    "    return processed_df\n",
    "\n",
    "# Load your trained Decision Tree model\n",
    "classifier = load('classifier.joblib')\n",
    "\n",
    "# Predict function for a user\n",
    "def predict_tbpred(user_id):\n",
    "    user_data = fetch_user_data(user_id)\n",
    "    if user_data:\n",
    "        processed_data = preprocess_user_data(user_data)\n",
    "        prediction = classifier.predict(processed_data)\n",
    "        return prediction\n",
    "    else:\n",
    "        return \"User data not found\"\n",
    "\n",
    "\n",
    "# Example usage\n",
    "user_id = '4PzkRocqvKdL71AtKXiu'\n",
    "prediction = predict_tbpred(user_id)\n",
    "print(f\"Predicted tb_pred for user {user_id}: {prediction}\")"
   ]
  }
 ],
 "metadata": {
  "kernelspec": {
   "display_name": "Python 3 (ipykernel)",
   "language": "python",
   "name": "python3"
  },
  "language_info": {
   "codemirror_mode": {
    "name": "ipython",
    "version": 3
   },
   "file_extension": ".py",
   "mimetype": "text/x-python",
   "name": "python",
   "nbconvert_exporter": "python",
   "pygments_lexer": "ipython3",
   "version": "3.7.16"
  }
 },
 "nbformat": 4,
 "nbformat_minor": 5
}
