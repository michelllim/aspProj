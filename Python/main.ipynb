{
 "cells": [
  {
   "cell_type": "code",
   "execution_count": 1,
   "id": "174a1501-b2ff-4be6-97f9-4fbb69852904",
   "metadata": {
    "tags": []
   },
   "outputs": [],
   "source": [
    "import firebase_admin\n",
    "from firebase_admin import credentials, firestore\n",
    "import pandas as pd\n",
    "from sklearn.tree import DecisionTreeClassifier\n",
    "from joblib import load"
   ]
  },
  {
   "cell_type": "code",
   "execution_count": 2,
   "id": "b5279c58-0d85-4e28-a30a-e286cb99ec4b",
   "metadata": {
    "tags": []
   },
   "outputs": [],
   "source": [
    "cred = credentials.Certificate('./firebase-sdk.json')\n",
    "firebase_admin.initialize_app(cred)\n",
    "db = firestore.client()"
   ]
  },
  {
   "cell_type": "code",
   "execution_count": 3,
   "id": "582a8154-a67d-4e10-b0d0-f5166ce4d14f",
   "metadata": {
    "tags": []
   },
   "outputs": [
    {
     "name": "stdout",
     "output_type": "stream",
     "text": [
      "Predicted tbpred for user Id2CXsv9CuIUMTTGDLgg: 1\n"
     ]
    },
    {
     "name": "stderr",
     "output_type": "stream",
     "text": [
      "C:\\Users\\alice\\anaconda3\\envs\\tf\\lib\\site-packages\\sklearn\\base.py:493: FutureWarning: The feature names should match those that were passed during fit. Starting version 1.2, an error will be raised.\n",
      "Feature names must be in the same order as they were in fit.\n",
      "\n",
      "  warnings.warn(message, FutureWarning)\n"
     ]
    }
   ],
   "source": [
    "# Function to fetch a user's data from Firestore\n",
    "def fetch_user_data(user_id):\n",
    "    doc_ref = db.collection('users').document(user_id)\n",
    "    doc = doc_ref.get()\n",
    "    if doc.exists:\n",
    "        return doc.to_dict()\n",
    "    else:\n",
    "        print(\"No such document!\")\n",
    "        return None\n",
    "\n",
    "# Function to preprocess user's data\n",
    "def preprocess_user_data(user_data):\n",
    "    # Assuming user_data is a dictionary containing the user's features\n",
    "    df = pd.DataFrame([user_data])  # Convert dict to DataFrame\n",
    "    \n",
    "    # Apply the same preprocessing as your training data\n",
    "    # Load label encoder and transform 'Country of Birth'\n",
    "    le_country = load('label_encoder.joblib')\n",
    "    df['encoded_country'] = le_country.transform(df['CountryofBirth'])\n",
    "    \n",
    "    # Ensure all preprocessing steps match training, including dropping unused columns\n",
    "    processed_df = df.drop(['Name', 'CountryofBirth'], axis=1)\n",
    "    \n",
    "    # Return preprocessed user data ready for prediction\n",
    "    return processed_df\n",
    "\n",
    "# Load your trained Decision Tree model\n",
    "DT_modelcv = load('classifier.joblib')\n",
    "\n",
    "# Predict function for a user\n",
    "def predict_tbpred(user_id):\n",
    "    user_data = fetch_user_data(user_id)\n",
    "    if user_data:\n",
    "        processed_data = preprocess_user_data(user_data)\n",
    "        prediction = DT_modelcv.predict(processed_data)\n",
    "        return prediction[0]\n",
    "    else:\n",
    "        return \"User data not found\"\n",
    "\n",
    "# Example usage\n",
    "user_id = 'Id2CXsv9CuIUMTTGDLgg'  # Replace with actual user ID\n",
    "prediction = predict_tbpred(user_id)\n",
    "print(f\"Predicted tbpred for user {user_id}: {prediction}\")"
   ]
  },
  {
   "cell_type": "code",
   "execution_count": null,
   "id": "c7dbe74c-df7c-46ac-ae38-37e838594aa7",
   "metadata": {},
   "outputs": [],
   "source": []
  }
 ],
 "metadata": {
  "kernelspec": {
   "display_name": "Python 3 (ipykernel)",
   "language": "python",
   "name": "python3"
  },
  "language_info": {
   "codemirror_mode": {
    "name": "ipython",
    "version": 3
   },
   "file_extension": ".py",
   "mimetype": "text/x-python",
   "name": "python",
   "nbconvert_exporter": "python",
   "pygments_lexer": "ipython3",
   "version": "3.7.16"
  }
 },
 "nbformat": 4,
 "nbformat_minor": 5
}
