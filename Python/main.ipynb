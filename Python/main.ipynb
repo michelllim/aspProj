{
 "cells": [
  {
   "cell_type": "markdown",
   "id": "01d170fb-c862-4677-8cc1-8c14c48c2312",
   "metadata": {},
   "source": [
    "## Main File To Run Code"
   ]
  },
  {
   "cell_type": "markdown",
   "id": "3baa07bd-cdb5-4cc2-865f-676aa62279ff",
   "metadata": {},
   "source": [
    "## Imports"
   ]
  },
  {
   "cell_type": "code",
   "execution_count": 7,
   "id": "3b47b913-f302-41ea-9a85-b80fb443f16c",
   "metadata": {
    "tags": []
   },
   "outputs": [],
   "source": [
    "import warnings\n",
    "warnings.simplefilter(action='ignore', category=FutureWarning)"
   ]
  },
  {
   "cell_type": "code",
   "execution_count": 8,
   "id": "174a1501-b2ff-4be6-97f9-4fbb69852904",
   "metadata": {
    "tags": []
   },
   "outputs": [],
   "source": [
    "import firebase_admin\n",
    "from firebase_admin import credentials, firestore, auth\n",
    "import pandas as pd\n",
    "from joblib import load\n",
    "from flask import Flask, request, jsonify\n",
    "from flask_cors import CORS,cross_origin"
   ]
  },
  {
   "cell_type": "markdown",
   "id": "524cdd5b-a635-428f-962b-5dbcf1d86cba",
   "metadata": {},
   "source": [
    "## 1 Connecting to Firebase Account"
   ]
  },
  {
   "cell_type": "code",
   "execution_count": 3,
   "id": "b5279c58-0d85-4e28-a30a-e286cb99ec4b",
   "metadata": {
    "tags": []
   },
   "outputs": [],
   "source": [
    "cred = credentials.Certificate('./firebase-sdk.json')\n",
    "firebase_admin.initialize_app(cred)\n",
    "db = firestore.client()"
   ]
  },
  {
   "cell_type": "markdown",
   "id": "e97d7c7e-e40d-487f-8511-241020688343",
   "metadata": {},
   "source": [
    "## 2 Create Classes"
   ]
  },
  {
   "cell_type": "code",
   "execution_count": 4,
   "id": "1a339603-79bd-442f-9961-2ac71c4b2639",
   "metadata": {
    "tags": []
   },
   "outputs": [],
   "source": [
    "feature_order = ['Name', 'Gender', 'Age', 'CountryofBirth', 'Smoking', 'Alcohol', 'FamilyHistory', 'CloseContact', 'HealthConditions', 'OccupationalRisks', 'PhysicalActivity', 'Diet', 'AirPollution', 'LongTermCough', 'ChestPain', 'AppetiteLoss', 'WeightLoss', 'Chills', 'Fatigue', 'NightSweat', 'CoughBlood', 'Fevers', 'NitricOxide']"
   ]
  },
  {
   "cell_type": "markdown",
   "id": "3883ee21-a4fc-4285-933b-f9482c746fd1",
   "metadata": {},
   "source": [
    "## 3 Predict User's Data"
   ]
  },
  {
   "cell_type": "code",
   "execution_count": 5,
   "id": "582a8154-a67d-4e10-b0d0-f5166ce4d14f",
   "metadata": {
    "tags": []
   },
   "outputs": [
    {
     "name": "stdout",
     "output_type": "stream",
     "text": [
      " * Serving Flask app '__main__'\n",
      " * Debug mode: off\n"
     ]
    },
    {
     "name": "stderr",
     "output_type": "stream",
     "text": [
      "WARNING: This is a development server. Do not use it in a production deployment. Use a production WSGI server instead.\n",
      " * Running on http://127.0.0.1:5000\n",
      "Press CTRL+C to quit\n",
      "127.0.0.1 - - [26/Feb/2024 18:56:47] \"OPTIONS /do-prediction HTTP/1.1\" 200 -\n",
      "127.0.0.1 - - [26/Feb/2024 18:56:47] \"OPTIONS /do-prediction HTTP/1.1\" 200 -\n"
     ]
    },
    {
     "name": "stdout",
     "output_type": "stream",
     "text": [
      "{'key': 'etGH9A06aSeEKO1mXlt3pwdgykZ2'}\n",
      "{'key': 'etGH9A06aSeEKO1mXlt3pwdgykZ2'}\n"
     ]
    },
    {
     "name": "stderr",
     "output_type": "stream",
     "text": [
      "127.0.0.1 - - [26/Feb/2024 18:56:49] \"POST /do-prediction HTTP/1.1\" 200 -\n"
     ]
    },
    {
     "name": "stdout",
     "output_type": "stream",
     "text": [
      "Predicted tb_pred for user etGH9A06aSeEKO1mXlt3pwdgykZ2: [0]\n"
     ]
    },
    {
     "name": "stderr",
     "output_type": "stream",
     "text": [
      "127.0.0.1 - - [26/Feb/2024 18:56:50] \"GET /show-prediction/etGH9A06aSeEKO1mXlt3pwdgykZ2 HTTP/1.1\" 200 -\n",
      "127.0.0.1 - - [26/Feb/2024 18:56:50] \"POST /do-prediction HTTP/1.1\" 200 -\n"
     ]
    },
    {
     "name": "stdout",
     "output_type": "stream",
     "text": [
      "{'tbpred': 0}\n",
      "Predicted tb_pred for user etGH9A06aSeEKO1mXlt3pwdgykZ2: [0]\n"
     ]
    },
    {
     "name": "stderr",
     "output_type": "stream",
     "text": [
      "127.0.0.1 - - [26/Feb/2024 18:56:51] \"GET /show-prediction/etGH9A06aSeEKO1mXlt3pwdgykZ2 HTTP/1.1\" 200 -\n"
     ]
    },
    {
     "name": "stdout",
     "output_type": "stream",
     "text": [
      "{'tbpred': 0}\n"
     ]
    },
    {
     "name": "stderr",
     "output_type": "stream",
     "text": [
      "127.0.0.1 - - [26/Feb/2024 18:58:29] \"OPTIONS /do-prediction HTTP/1.1\" 200 -\n"
     ]
    },
    {
     "name": "stdout",
     "output_type": "stream",
     "text": [
      "{'key': 'etGH9A06aSeEKO1mXlt3pwdgykZ2'}\n"
     ]
    },
    {
     "name": "stderr",
     "output_type": "stream",
     "text": [
      "127.0.0.1 - - [26/Feb/2024 18:58:30] \"POST /do-prediction HTTP/1.1\" 200 -\n"
     ]
    },
    {
     "name": "stdout",
     "output_type": "stream",
     "text": [
      "Predicted tb_pred for user etGH9A06aSeEKO1mXlt3pwdgykZ2: [0]\n"
     ]
    },
    {
     "name": "stderr",
     "output_type": "stream",
     "text": [
      "127.0.0.1 - - [26/Feb/2024 18:58:31] \"GET /show-prediction/etGH9A06aSeEKO1mXlt3pwdgykZ2 HTTP/1.1\" 200 -\n"
     ]
    },
    {
     "name": "stdout",
     "output_type": "stream",
     "text": [
      "{'tbpred': 0}\n"
     ]
    },
    {
     "name": "stderr",
     "output_type": "stream",
     "text": [
      "127.0.0.1 - - [26/Feb/2024 18:58:35] \"OPTIONS /do-prediction HTTP/1.1\" 200 -\n",
      "127.0.0.1 - - [26/Feb/2024 18:58:35] \"OPTIONS /do-prediction HTTP/1.1\" 200 -\n"
     ]
    },
    {
     "name": "stdout",
     "output_type": "stream",
     "text": [
      "{'key': 'etGH9A06aSeEKO1mXlt3pwdgykZ2'}\n",
      "{'key': 'etGH9A06aSeEKO1mXlt3pwdgykZ2'}\n"
     ]
    },
    {
     "name": "stderr",
     "output_type": "stream",
     "text": [
      "127.0.0.1 - - [26/Feb/2024 18:58:36] \"POST /do-prediction HTTP/1.1\" 200 -\n"
     ]
    },
    {
     "name": "stdout",
     "output_type": "stream",
     "text": [
      "Predicted tb_pred for user etGH9A06aSeEKO1mXlt3pwdgykZ2: [0]\n"
     ]
    },
    {
     "name": "stderr",
     "output_type": "stream",
     "text": [
      "127.0.0.1 - - [26/Feb/2024 18:58:37] \"POST /do-prediction HTTP/1.1\" 200 -\n"
     ]
    },
    {
     "name": "stdout",
     "output_type": "stream",
     "text": [
      "Predicted tb_pred for user etGH9A06aSeEKO1mXlt3pwdgykZ2: [0]\n"
     ]
    },
    {
     "name": "stderr",
     "output_type": "stream",
     "text": [
      "127.0.0.1 - - [26/Feb/2024 18:58:38] \"GET /show-prediction/etGH9A06aSeEKO1mXlt3pwdgykZ2 HTTP/1.1\" 200 -\n"
     ]
    },
    {
     "name": "stdout",
     "output_type": "stream",
     "text": [
      "{'tbpred': 0}\n"
     ]
    },
    {
     "name": "stderr",
     "output_type": "stream",
     "text": [
      "127.0.0.1 - - [26/Feb/2024 18:58:39] \"GET /show-prediction/etGH9A06aSeEKO1mXlt3pwdgykZ2 HTTP/1.1\" 200 -\n"
     ]
    },
    {
     "name": "stdout",
     "output_type": "stream",
     "text": [
      "{'tbpred': 0}\n"
     ]
    },
    {
     "name": "stderr",
     "output_type": "stream",
     "text": [
      "127.0.0.1 - - [26/Feb/2024 19:39:42] \"OPTIONS /do-prediction HTTP/1.1\" 200 -\n"
     ]
    },
    {
     "name": "stdout",
     "output_type": "stream",
     "text": [
      "{'key': 'etGH9A06aSeEKO1mXlt3pwdgykZ2'}\n"
     ]
    },
    {
     "name": "stderr",
     "output_type": "stream",
     "text": [
      "127.0.0.1 - - [26/Feb/2024 19:39:44] \"POST /do-prediction HTTP/1.1\" 200 -\n"
     ]
    },
    {
     "name": "stdout",
     "output_type": "stream",
     "text": [
      "Predicted tb_pred for user etGH9A06aSeEKO1mXlt3pwdgykZ2: [0]\n"
     ]
    },
    {
     "name": "stderr",
     "output_type": "stream",
     "text": [
      "127.0.0.1 - - [26/Feb/2024 19:39:45] \"GET /show-prediction/etGH9A06aSeEKO1mXlt3pwdgykZ2 HTTP/1.1\" 200 -\n"
     ]
    },
    {
     "name": "stdout",
     "output_type": "stream",
     "text": [
      "{'tbpred': 0}\n"
     ]
    },
    {
     "name": "stderr",
     "output_type": "stream",
     "text": [
      "127.0.0.1 - - [26/Feb/2024 19:42:20] \"OPTIONS /do-prediction HTTP/1.1\" 200 -\n"
     ]
    },
    {
     "name": "stdout",
     "output_type": "stream",
     "text": [
      "{'key': 'TGsTLQLSx8M0toORkKxkLrtVFBa2'}\n"
     ]
    },
    {
     "name": "stderr",
     "output_type": "stream",
     "text": [
      "[2024-02-26 19:42:21,157] ERROR in app: Exception on /do-prediction [POST]\n",
      "Traceback (most recent call last):\n",
      "  File \"C:\\Users\\alice\\anaconda3\\envs\\tf\\lib\\site-packages\\flask\\app.py\", line 2529, in wsgi_app\n",
      "    response = self.full_dispatch_request()\n",
      "  File \"C:\\Users\\alice\\anaconda3\\envs\\tf\\lib\\site-packages\\flask\\app.py\", line 1825, in full_dispatch_request\n",
      "    rv = self.handle_user_exception(e)\n",
      "  File \"C:\\Users\\alice\\anaconda3\\envs\\tf\\lib\\site-packages\\flask_cors\\extension.py\", line 176, in wrapped_function\n",
      "    return cors_after_request(app.make_response(f(*args, **kwargs)))\n",
      "  File \"C:\\Users\\alice\\anaconda3\\envs\\tf\\lib\\site-packages\\flask\\app.py\", line 1823, in full_dispatch_request\n",
      "    rv = self.dispatch_request()\n",
      "  File \"C:\\Users\\alice\\anaconda3\\envs\\tf\\lib\\site-packages\\flask\\app.py\", line 1799, in dispatch_request\n",
      "    return self.ensure_sync(self.view_functions[rule.endpoint])(**view_args)\n",
      "  File \"C:\\Users\\alice\\anaconda3\\envs\\tf\\lib\\site-packages\\flask_cors\\decorator.py\", line 130, in wrapped_function\n",
      "    resp = make_response(f(*args, **kwargs))\n",
      "  File \"C:\\Users\\alice\\AppData\\Local\\Temp\\ipykernel_15792\\1248138751.py\", line 17, in receive_data_from_react\n",
      "    save_predictions(user_id,prediction)\n",
      "  File \"C:\\Users\\alice\\AppData\\Local\\Temp\\ipykernel_15792\\1248138751.py\", line 23, in save_predictions\n",
      "    tb_pred=int(tb_pred[0])\n",
      "ValueError: invalid literal for int() with base 10: 'U'\n",
      "127.0.0.1 - - [26/Feb/2024 19:42:21] \"POST /do-prediction HTTP/1.1\" 500 -\n"
     ]
    },
    {
     "name": "stdout",
     "output_type": "stream",
     "text": [
      "No such document!\n"
     ]
    },
    {
     "name": "stderr",
     "output_type": "stream",
     "text": [
      "127.0.0.1 - - [26/Feb/2024 19:42:56] \"OPTIONS /do-prediction HTTP/1.1\" 200 -\n"
     ]
    },
    {
     "name": "stdout",
     "output_type": "stream",
     "text": [
      "{'key': 'TGsTLQLSx8M0toORkKxkLrtVFBa2'}\n"
     ]
    },
    {
     "name": "stderr",
     "output_type": "stream",
     "text": [
      "127.0.0.1 - - [26/Feb/2024 19:42:58] \"POST /do-prediction HTTP/1.1\" 200 -\n"
     ]
    },
    {
     "name": "stdout",
     "output_type": "stream",
     "text": [
      "Predicted tb_pred for user TGsTLQLSx8M0toORkKxkLrtVFBa2: [0]\n"
     ]
    },
    {
     "name": "stderr",
     "output_type": "stream",
     "text": [
      "127.0.0.1 - - [26/Feb/2024 19:42:59] \"GET /show-prediction/TGsTLQLSx8M0toORkKxkLrtVFBa2 HTTP/1.1\" 200 -\n"
     ]
    },
    {
     "name": "stdout",
     "output_type": "stream",
     "text": [
      "{'tbpred': 0}\n"
     ]
    },
    {
     "name": "stderr",
     "output_type": "stream",
     "text": [
      "127.0.0.1 - - [26/Feb/2024 19:44:15] \"OPTIONS /do-prediction HTTP/1.1\" 200 -\n"
     ]
    },
    {
     "name": "stdout",
     "output_type": "stream",
     "text": [
      "{'key': 'TGsTLQLSx8M0toORkKxkLrtVFBa2'}\n"
     ]
    },
    {
     "name": "stderr",
     "output_type": "stream",
     "text": [
      "127.0.0.1 - - [26/Feb/2024 19:44:17] \"POST /do-prediction HTTP/1.1\" 200 -\n"
     ]
    },
    {
     "name": "stdout",
     "output_type": "stream",
     "text": [
      "Predicted tb_pred for user TGsTLQLSx8M0toORkKxkLrtVFBa2: [1]\n"
     ]
    },
    {
     "name": "stderr",
     "output_type": "stream",
     "text": [
      "127.0.0.1 - - [26/Feb/2024 19:44:17] \"GET /show-prediction/TGsTLQLSx8M0toORkKxkLrtVFBa2 HTTP/1.1\" 200 -\n"
     ]
    },
    {
     "name": "stdout",
     "output_type": "stream",
     "text": [
      "{'tbpred': 1}\n"
     ]
    },
    {
     "name": "stderr",
     "output_type": "stream",
     "text": [
      "127.0.0.1 - - [26/Feb/2024 19:49:10] \"OPTIONS /do-prediction HTTP/1.1\" 200 -\n"
     ]
    },
    {
     "name": "stdout",
     "output_type": "stream",
     "text": [
      "{'key': 'TGsTLQLSx8M0toORkKxkLrtVFBa2'}\n"
     ]
    },
    {
     "name": "stderr",
     "output_type": "stream",
     "text": [
      "127.0.0.1 - - [26/Feb/2024 19:49:12] \"POST /do-prediction HTTP/1.1\" 200 -\n"
     ]
    },
    {
     "name": "stdout",
     "output_type": "stream",
     "text": [
      "Predicted tb_pred for user TGsTLQLSx8M0toORkKxkLrtVFBa2: [1]\n"
     ]
    },
    {
     "name": "stderr",
     "output_type": "stream",
     "text": [
      "127.0.0.1 - - [26/Feb/2024 19:49:13] \"GET /show-prediction/TGsTLQLSx8M0toORkKxkLrtVFBa2 HTTP/1.1\" 200 -\n"
     ]
    },
    {
     "name": "stdout",
     "output_type": "stream",
     "text": [
      "{'tbpred': 1}\n"
     ]
    },
    {
     "name": "stderr",
     "output_type": "stream",
     "text": [
      "127.0.0.1 - - [26/Feb/2024 19:50:07] \"OPTIONS /do-prediction HTTP/1.1\" 200 -\n"
     ]
    },
    {
     "name": "stdout",
     "output_type": "stream",
     "text": [
      "{'key': 'TGsTLQLSx8M0toORkKxkLrtVFBa2'}\n"
     ]
    },
    {
     "name": "stderr",
     "output_type": "stream",
     "text": [
      "127.0.0.1 - - [26/Feb/2024 19:50:08] \"POST /do-prediction HTTP/1.1\" 200 -\n"
     ]
    },
    {
     "name": "stdout",
     "output_type": "stream",
     "text": [
      "Predicted tb_pred for user TGsTLQLSx8M0toORkKxkLrtVFBa2: [1]\n"
     ]
    },
    {
     "name": "stderr",
     "output_type": "stream",
     "text": [
      "127.0.0.1 - - [26/Feb/2024 19:50:09] \"GET /show-prediction/TGsTLQLSx8M0toORkKxkLrtVFBa2 HTTP/1.1\" 200 -\n"
     ]
    },
    {
     "name": "stdout",
     "output_type": "stream",
     "text": [
      "{'tbpred': 1}\n"
     ]
    },
    {
     "name": "stderr",
     "output_type": "stream",
     "text": [
      "127.0.0.1 - - [26/Feb/2024 19:50:16] \"OPTIONS /do-prediction HTTP/1.1\" 200 -\n"
     ]
    },
    {
     "name": "stdout",
     "output_type": "stream",
     "text": [
      "{'key': 'TGsTLQLSx8M0toORkKxkLrtVFBa2'}\n"
     ]
    },
    {
     "name": "stderr",
     "output_type": "stream",
     "text": [
      "127.0.0.1 - - [26/Feb/2024 19:50:17] \"POST /do-prediction HTTP/1.1\" 200 -\n"
     ]
    },
    {
     "name": "stdout",
     "output_type": "stream",
     "text": [
      "Predicted tb_pred for user TGsTLQLSx8M0toORkKxkLrtVFBa2: [1]\n"
     ]
    },
    {
     "name": "stderr",
     "output_type": "stream",
     "text": [
      "127.0.0.1 - - [26/Feb/2024 19:50:18] \"GET /show-prediction/TGsTLQLSx8M0toORkKxkLrtVFBa2 HTTP/1.1\" 200 -\n"
     ]
    },
    {
     "name": "stdout",
     "output_type": "stream",
     "text": [
      "{'tbpred': 1}\n"
     ]
    },
    {
     "name": "stderr",
     "output_type": "stream",
     "text": [
      "127.0.0.1 - - [26/Feb/2024 19:51:07] \"OPTIONS /do-prediction HTTP/1.1\" 200 -\n"
     ]
    },
    {
     "name": "stdout",
     "output_type": "stream",
     "text": [
      "{'key': 'TGsTLQLSx8M0toORkKxkLrtVFBa2'}\n"
     ]
    },
    {
     "name": "stderr",
     "output_type": "stream",
     "text": [
      "127.0.0.1 - - [26/Feb/2024 19:51:08] \"POST /do-prediction HTTP/1.1\" 200 -\n"
     ]
    },
    {
     "name": "stdout",
     "output_type": "stream",
     "text": [
      "Predicted tb_pred for user TGsTLQLSx8M0toORkKxkLrtVFBa2: [1]\n"
     ]
    },
    {
     "name": "stderr",
     "output_type": "stream",
     "text": [
      "127.0.0.1 - - [26/Feb/2024 19:51:09] \"GET /show-prediction/TGsTLQLSx8M0toORkKxkLrtVFBa2 HTTP/1.1\" 200 -\n"
     ]
    },
    {
     "name": "stdout",
     "output_type": "stream",
     "text": [
      "{'tbpred': 1}\n"
     ]
    },
    {
     "name": "stderr",
     "output_type": "stream",
     "text": [
      "127.0.0.1 - - [26/Feb/2024 19:51:39] \"OPTIONS /do-prediction HTTP/1.1\" 200 -\n"
     ]
    },
    {
     "name": "stdout",
     "output_type": "stream",
     "text": [
      "{'key': 'TGsTLQLSx8M0toORkKxkLrtVFBa2'}\n"
     ]
    },
    {
     "name": "stderr",
     "output_type": "stream",
     "text": [
      "127.0.0.1 - - [26/Feb/2024 19:51:40] \"POST /do-prediction HTTP/1.1\" 200 -\n"
     ]
    },
    {
     "name": "stdout",
     "output_type": "stream",
     "text": [
      "Predicted tb_pred for user TGsTLQLSx8M0toORkKxkLrtVFBa2: [1]\n"
     ]
    },
    {
     "name": "stderr",
     "output_type": "stream",
     "text": [
      "127.0.0.1 - - [26/Feb/2024 19:51:40] \"GET /show-prediction/TGsTLQLSx8M0toORkKxkLrtVFBa2 HTTP/1.1\" 200 -\n"
     ]
    },
    {
     "name": "stdout",
     "output_type": "stream",
     "text": [
      "{'tbpred': 1}\n"
     ]
    }
   ],
   "source": [
    "app = Flask(__name__)\n",
    "CORS(app) \n",
    "\n",
    "@app.route(\"/\")\n",
    "@cross_origin()\n",
    "def helloWorld():\n",
    "  return \"Flask Server Running\"\n",
    "\n",
    "@app.route('/do-prediction', methods=['POST'])\n",
    "@cross_origin()\n",
    "def receive_data_from_react():\n",
    "    data = request.json\n",
    "    print(data)\n",
    "    user_id=data['key']\n",
    "    # user_id=fetch_user_data(data)\n",
    "    prediction = predict_tbpred(user_id)\n",
    "    save_predictions(user_id,prediction)\n",
    "    print(f\"Predicted tb_pred for user {user_id}: {prediction}\")\n",
    "    return jsonify({'message': 'Data received successfully'})\n",
    "\n",
    "#Function to save user's prediction results to Firestore\n",
    "def save_predictions(user_id, tb_pred):\n",
    "    tb_pred=int(tb_pred[0])                \n",
    "    data={'tbpred':tb_pred}\n",
    "    doc_ref = db.collection('predictions').document(user_id)\n",
    "    doc_ref.set(data)\n",
    "    return jsonify({'message': 'Data saved successfully'})\n",
    "\n",
    "#Function to fetch prediction from Firestore\n",
    "def fetch_predictions(user_id):\n",
    "    doc_ref = db.collection('predictions').document(user_id)\n",
    "    doc = doc_ref.get()\n",
    "    if doc.exists:\n",
    "        #print(doc.to_dict())\n",
    "        return doc.to_dict()\n",
    "    else:\n",
    "        print(\"No such document!\")\n",
    "        return None\n",
    "\n",
    "@app.route('/show-prediction/<user_id>', methods=['GET'])\n",
    "@cross_origin()\n",
    "def send_data_to_react(user_id):\n",
    "    data=fetch_predictions(user_id)\n",
    "    print(data)\n",
    "    return jsonify(data)\n",
    "\n",
    "# Function to fetch a user's data from Firestore\n",
    "def fetch_user_data(user_id):\n",
    "    doc_ref = db.collection('users').document(user_id)\n",
    "    doc = doc_ref.get()\n",
    "    if doc.exists:\n",
    "        #print(doc.to_dict())\n",
    "        return doc.to_dict()\n",
    "    else:\n",
    "        print(\"No such document!\")\n",
    "        return None\n",
    "\n",
    "# Function to preprocess user's data\n",
    "def preprocess_user_data(user_data):\n",
    "    # Assuming user_data is a dictionary containing the user's features\n",
    "    df = pd.DataFrame([user_data])  # Convert dict to DataFrame\n",
    "    df = df[feature_order]\n",
    "    # Apply the same preprocessing as your training data\n",
    "    # Load label encoder and transform 'Country of Birth'\n",
    "    le_country = load('label_encoder.joblib')\n",
    "    df['encoded_country'] = le_country.transform(df['CountryofBirth'])\n",
    "    \n",
    "    # Ensure all preprocessing steps match training, including dropping unused columns\n",
    "    processed_df = df.drop(['Name', 'CountryofBirth'], axis=1)\n",
    "    \n",
    "    # Return preprocessed user data ready for prediction\n",
    "    return processed_df\n",
    "\n",
    "# Load your trained Decision Tree model\n",
    "classifier = load('classifier.joblib')\n",
    "\n",
    "# Predict function for a user\n",
    "def predict_tbpred(user_id):\n",
    "    user_data = fetch_user_data(user_id)\n",
    "    if user_data:\n",
    "        processed_data = preprocess_user_data(user_data)\n",
    "        prediction = classifier.predict(processed_data)\n",
    "        return prediction\n",
    "    else:\n",
    "        return \"User data not found\"\n",
    "\n",
    "if __name__ == '__main__':\n",
    "    try:\n",
    "        app.run(debug=False)\n",
    "    except Exception as e:\n",
    "        print(\"Error:\", e)\n",
    "        sys.exit(1)\n",
    "# Example usage\n",
    "# user_id = '4PzkRocqvKdL71AtKXiu'\n",
    "# prediction = predict_tbpred(user_id)\n",
    "# print(f\"Predicted tb_pred for user {user_id}: {prediction}\")"
   ]
  },
  {
   "cell_type": "code",
   "execution_count": 6,
   "id": "5a78f56a-aea1-44ec-a595-e0e25ff21985",
   "metadata": {},
   "outputs": [
    {
     "name": "stderr",
     "output_type": "stream",
     "text": [
      "No traceback available to show.\n"
     ]
    }
   ],
   "source": [
    "%tb"
   ]
  }
 ],
 "metadata": {
  "kernelspec": {
   "display_name": "Python 3 (ipykernel)",
   "language": "python",
   "name": "python3"
  },
  "language_info": {
   "codemirror_mode": {
    "name": "ipython",
    "version": 3
   },
   "file_extension": ".py",
   "mimetype": "text/x-python",
   "name": "python",
   "nbconvert_exporter": "python",
   "pygments_lexer": "ipython3",
   "version": "3.7.16"
  }
 },
 "nbformat": 4,
 "nbformat_minor": 5
}
