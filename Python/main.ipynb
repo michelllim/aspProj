{
 "cells": [
  {
   "cell_type": "code",
   "execution_count": 1,
   "id": "3b47b913-f302-41ea-9a85-b80fb443f16c",
   "metadata": {
    "tags": []
   },
   "outputs": [],
   "source": [
    "import warnings\n",
    "warnings.simplefilter(action='ignore', category=FutureWarning)"
   ]
  },
  {
   "cell_type": "code",
   "execution_count": 2,
   "id": "174a1501-b2ff-4be6-97f9-4fbb69852904",
   "metadata": {
    "tags": []
   },
   "outputs": [],
   "source": [
    "import firebase_admin\n",
    "from firebase_admin import credentials, firestore, auth\n",
    "import pandas as pd\n",
    "from sklearn.tree import DecisionTreeClassifier\n",
    "from joblib import load\n",
    "from flask import Flask, request, jsonify"
   ]
  },
  {
   "cell_type": "code",
   "execution_count": 3,
   "id": "b5279c58-0d85-4e28-a30a-e286cb99ec4b",
   "metadata": {
    "tags": []
   },
   "outputs": [],
   "source": [
    "cred = credentials.Certificate('./firebase-sdk.json')\n",
    "firebase_admin.initialize_app(cred)\n",
    "db = firestore.client()"
   ]
  },
  {
   "cell_type": "code",
   "execution_count": 4,
   "id": "1a339603-79bd-442f-9961-2ac71c4b2639",
   "metadata": {
    "tags": []
   },
   "outputs": [],
   "source": [
    "feature_order = ['Name', 'Gender', 'Age', 'CountryofBirth', 'Smoking', 'Alcohol', 'FamilyHistory', 'CloseContact', 'HealthConditions', 'OccupationalRisks', 'PhysicalActivity', 'Diet', 'AirPollution', 'LongTermCough', 'ChestPain', 'AppetiteLoss', 'WeightLoss', 'Chills', 'Fatigue', 'NightSweat', 'CoughBlood', 'Fevers', 'NitricOxide']"
   ]
  },
  {
   "cell_type": "code",
   "execution_count": 7,
   "id": "582a8154-a67d-4e10-b0d0-f5166ce4d14f",
   "metadata": {
    "tags": []
   },
   "outputs": [
    {
     "name": "stdout",
     "output_type": "stream",
     "text": [
      "{'Fatigue': '1', 'NightSweat': '1', 'CountryofBirth': 'Samoa', 'HealthConditions': '1', 'LongTermCough': '1', 'CoughBlood': '1', 'AirPollution': '3', 'Diet': '1', 'Fevers': '1', 'Alcohol': '2', 'Name': 'sadsa', 'PhysicalActivity': '1', 'Chills': '1', 'WeightLoss': '1', 'AppetiteLoss': '1', 'NitricOxide': 20, 'OccupationalRisks': '1', 'Gender': '1', 'CloseContact': '1', 'ChestPain': '1', 'FamilyHistory': '1', 'Age': '123', 'Smoking': '2'}\n",
      "Predicted tb_pred for user 4PzkRocqvKdL71AtKXiu: [1]\n"
     ]
    }
   ],
   "source": [
    "# Function to fetch a user's data from Firestore\n",
    "def fetch_user_data(user_id):\n",
    "    doc_ref = db.collection('users').document(user_id)\n",
    "    doc = doc_ref.get()\n",
    "    if doc.exists:\n",
    "        print(doc.to_dict())\n",
    "        return doc.to_dict()\n",
    "    else:\n",
    "        print(\"No such document!\")\n",
    "        return None\n",
    "\n",
    "# Function to preprocess user's data\n",
    "def preprocess_user_data(user_data):\n",
    "    # Assuming user_data is a dictionary containing the user's features\n",
    "    df = pd.DataFrame([user_data])  # Convert dict to DataFrame\n",
    "    df = df[feature_order]\n",
    "    # Apply the same preprocessing as your training data\n",
    "    # Load label encoder and transform 'Country of Birth'\n",
    "    le_country = load('label_encoder.joblib')\n",
    "    df['encoded_country'] = le_country.transform(df['CountryofBirth'])\n",
    "    \n",
    "    # Ensure all preprocessing steps match training, including dropping unused columns\n",
    "    processed_df = df.drop(['Name', 'CountryofBirth'], axis=1)\n",
    "    \n",
    "    # Return preprocessed user data ready for prediction\n",
    "    return processed_df\n",
    "\n",
    "# Load your trained Decision Tree model\n",
    "classifier = load('classifier.joblib')\n",
    "\n",
    "# Predict function for a user\n",
    "def predict_tbpred(user_id):\n",
    "    user_data = fetch_user_data(user_id)\n",
    "    if user_data:\n",
    "        processed_data = preprocess_user_data(user_data)\n",
    "        prediction = classifier.predict(processed_data)\n",
    "        return prediction\n",
    "    else:\n",
    "        return \"User data not found\"\n",
    "\n",
    "\n",
    "# Example usage\n",
    "user_id = '4PzkRocqvKdL71AtKXiu'\n",
    "prediction = predict_tbpred(user_id)\n",
    "print(f\"Predicted tb_pred for user {user_id}: {prediction}\")"
   ]
  },
  {
   "cell_type": "code",
   "execution_count": null,
   "id": "e7d0959b-ed57-4a08-be12-2604d0a993c3",
   "metadata": {},
   "outputs": [],
   "source": []
  },
  {
   "cell_type": "code",
   "execution_count": null,
   "id": "e4d49c0d-f822-4a4c-9ddb-5fd479d8b941",
   "metadata": {},
   "outputs": [],
   "source": []
  },
  {
   "cell_type": "code",
   "execution_count": null,
   "id": "ed7bc0b7-e8ae-4aea-a076-8c32de22cd09",
   "metadata": {},
   "outputs": [],
   "source": []
  },
  {
   "cell_type": "code",
   "execution_count": null,
   "id": "b71dd143-2fd7-4245-94d6-0d41d87ecef5",
   "metadata": {},
   "outputs": [],
   "source": []
  },
  {
   "cell_type": "code",
   "execution_count": null,
   "id": "185250fa-6049-4349-be85-a7dcf067d02f",
   "metadata": {},
   "outputs": [],
   "source": []
  },
  {
   "cell_type": "code",
   "execution_count": null,
   "id": "bb56f26c-c29b-4b5e-b343-f485ae58c355",
   "metadata": {},
   "outputs": [],
   "source": []
  },
  {
   "cell_type": "code",
   "execution_count": null,
   "id": "07b1de38-6454-4978-bd2c-97f60785e06b",
   "metadata": {},
   "outputs": [],
   "source": []
  },
  {
   "cell_type": "code",
   "execution_count": null,
   "id": "2c5456eb-df36-4b19-b098-417977dbbdf8",
   "metadata": {},
   "outputs": [],
   "source": []
  },
  {
   "cell_type": "code",
   "execution_count": 19,
   "id": "da28ab60-cf30-4c7c-823b-368a33252e79",
   "metadata": {
    "tags": []
   },
   "outputs": [
    {
     "name": "stdout",
     "output_type": "stream",
     "text": [
      "['Name', 'Gender', 'Age', 'CountryofBirth', 'Smoking', 'Alcohol', 'FamilyHistory', 'CloseContact', 'HealthConditions', 'OccupationalRisks', 'PhysicalActivity', 'Diet', 'AirPollution', 'LongTermCough', 'ChestPain', 'AppetiteLoss', 'WeightLoss', 'Chills', 'Fatigue', 'NightSweat', 'CoughBlood', 'Fevers', 'NitricOxide', 'tb_pred']\n",
      "[0]\n"
     ]
    },
    {
     "name": "stderr",
     "output_type": "stream",
     "text": [
      "C:\\Users\\alice\\anaconda3\\envs\\tf\\lib\\site-packages\\sklearn\\base.py:451: UserWarning: X does not have valid feature names, but LogisticRegression was fitted with feature names\n",
      "  \"X does not have valid feature names, but\"\n"
     ]
    }
   ],
   "source": [
    "import numpy as np\n",
    "from joblib import load\n",
    "import pandas as pd\n",
    "\n",
    "df = pd.read_csv(\"./dataset/tbpred.csv\")\n",
    "\n",
    "# Get the feature names from the column headers\n",
    "feature_names = df.columns.tolist()\n",
    "print(feature_names)\n",
    "\n",
    "classifier = load('classifier.joblib')\n",
    "a = np.array([[1,24,0,4,1,0,0,1,1,1,1,3,0,0,1,1,0,1,0,0,0,34.8]])\n",
    "print(classifier.predict(a))"
   ]
  },
  {
   "cell_type": "code",
   "execution_count": null,
   "id": "95034b55-0f53-4517-b8f7-ade6fe57aea4",
   "metadata": {},
   "outputs": [],
   "source": []
  },
  {
   "cell_type": "code",
   "execution_count": null,
   "id": "535c5dea-80a3-4b37-9638-e62d48d5b72a",
   "metadata": {},
   "outputs": [],
   "source": []
  }
 ],
 "metadata": {
  "kernelspec": {
   "display_name": "Python 3 (ipykernel)",
   "language": "python",
   "name": "python3"
  },
  "language_info": {
   "codemirror_mode": {
    "name": "ipython",
    "version": 3
   },
   "file_extension": ".py",
   "mimetype": "text/x-python",
   "name": "python",
   "nbconvert_exporter": "python",
   "pygments_lexer": "ipython3",
   "version": "3.7.16"
  }
 },
 "nbformat": 4,
 "nbformat_minor": 5
}
